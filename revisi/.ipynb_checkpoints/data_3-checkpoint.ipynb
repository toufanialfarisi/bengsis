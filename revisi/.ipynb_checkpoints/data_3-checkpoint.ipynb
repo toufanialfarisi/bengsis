{
 "cells": [
  {
   "cell_type": "code",
   "execution_count": 2,
   "metadata": {},
   "outputs": [],
   "source": [
    "import numpy as np \n",
    "import pandas as pd \n",
    "import sklearn\n",
    "import warnings"
   ]
  },
  {
   "cell_type": "code",
   "execution_count": 3,
   "metadata": {},
   "outputs": [],
   "source": [
    "def warn(*args, **kwargs):\n",
    "    pass \n",
    "warnings.warn = warn"
   ]
  },
  {
   "cell_type": "code",
   "execution_count": 4,
   "metadata": {},
   "outputs": [
    {
     "name": "stdout",
     "output_type": "stream",
     "text": [
      "(n_baris, n_kolom)\n",
      "data_2 :\n",
      " (10, 4)\n"
     ]
    }
   ],
   "source": [
    "# file csv yang akan diproses\n",
    "file_3 = 'rem.csv'\n",
    "\n",
    "# panggil filenya dan masukan ke dalam variabel data_n\n",
    "data_3 = pd.read_csv(file_3)\n",
    "\n",
    "# lihat dimensi semua filenya \n",
    "print('(n_baris, n_kolom)')\n",
    "print('data_2 :\\n', data_3.shape)"
   ]
  },
  {
   "cell_type": "markdown",
   "metadata": {},
   "source": [
    "### DATA_1"
   ]
  },
  {
   "cell_type": "code",
   "execution_count": 5,
   "metadata": {},
   "outputs": [
    {
     "name": "stdout",
     "output_type": "stream",
     "text": [
      "Sil Master  :\n",
      " ['Bagus' 'Bocor']\n",
      "Ring Piston  :\n",
      " ['Bagus' 'Rusak' 'Rusak ']\n",
      "Kampas Rem  :\n",
      " ['Tebal' 'Tipis']\n",
      "Hasil  :\n",
      " ['Tidak ada yang diganti' 'Sil master diganti'\n",
      " 'Ganti sil master kemudian ring piston'\n",
      " 'Ganti sil master kemudian kampas rem' 'Ganti kampas rem'\n",
      " 'Ganti ring piston kemudian kampas rem'\n",
      " 'Ganti sil master kemudian ring piston kemudian kampas rem']\n"
     ]
    }
   ],
   "source": [
    "# lihat unique setiap kolom \n",
    "for col in data_3.columns:\n",
    "    out = data_3[col].unique()\n",
    "    print(col, ' :\\n', out)"
   ]
  },
  {
   "cell_type": "code",
   "execution_count": 71,
   "metadata": {},
   "outputs": [
    {
     "data": {
      "text/plain": [
       "array(['Tidak ada yang diganti', 'Sil master diganti',\n",
       "       'Ganti sil master kemudian ring piston',\n",
       "       'Ganti sil master kemudian kampas rem', 'Ganti kampas rem',\n",
       "       'Ganti ring piston kemudian kampas rem',\n",
       "       'Ganti sil master kemudian ring piston kemudian kampas rem'],\n",
       "      dtype=object)"
      ]
     },
     "execution_count": 71,
     "metadata": {},
     "output_type": "execute_result"
    }
   ],
   "source": [
    "# kita lihat nilai - nilai unique dalam datanya\n",
    "data_3['Hasil'].unique()"
   ]
  },
  {
   "cell_type": "code",
   "execution_count": 72,
   "metadata": {},
   "outputs": [
    {
     "data": {
      "text/plain": [
       "Tidak ada yang diganti                                       3\n",
       "Ganti kampas rem                                             2\n",
       "Ganti sil master kemudian kampas rem                         1\n",
       "Ganti sil master kemudian ring piston kemudian kampas rem    1\n",
       "Sil master diganti                                           1\n",
       "Ganti ring piston kemudian kampas rem                        1\n",
       "Ganti sil master kemudian ring piston                        1\n",
       "Name: Hasil, dtype: int64"
      ]
     },
     "execution_count": 72,
     "metadata": {},
     "output_type": "execute_result"
    }
   ],
   "source": [
    "# kita hitung berapa jumlah kelas di kolom 'Hasil' tersbeut \n",
    "data_3['Hasil'].value_counts()"
   ]
  },
  {
   "cell_type": "markdown",
   "metadata": {},
   "source": [
    "Terlihat bahwa jumlah class yang tersebar di dalam kolom Hasil itu bersifat tidak merata. artinya class 'Tidak ada yang diganti' memiliki jumlah paling banyak (mendominasi) dibandingkan dengan class yang lain seperti 'Oli diganti', 'tali gas diganti' dll. sehingga, agar menghasilkan model yang baik, maka jumlah class ini harus disama-ratakan (balancing) agar distribusi nilainya merata. sehingga akan semakin baik dalam menyimpulkan/memprediksi data"
   ]
  },
  {
   "cell_type": "code",
   "execution_count": 77,
   "metadata": {},
   "outputs": [
    {
     "data": {
      "text/html": [
       "<div>\n",
       "<style scoped>\n",
       "    .dataframe tbody tr th:only-of-type {\n",
       "        vertical-align: middle;\n",
       "    }\n",
       "\n",
       "    .dataframe tbody tr th {\n",
       "        vertical-align: top;\n",
       "    }\n",
       "\n",
       "    .dataframe thead th {\n",
       "        text-align: right;\n",
       "    }\n",
       "</style>\n",
       "<table border=\"1\" class=\"dataframe\">\n",
       "  <thead>\n",
       "    <tr style=\"text-align: right;\">\n",
       "      <th></th>\n",
       "      <th>Sil Master</th>\n",
       "      <th>Ring Piston</th>\n",
       "      <th>Kampas Rem</th>\n",
       "      <th>Hasil</th>\n",
       "    </tr>\n",
       "  </thead>\n",
       "  <tbody>\n",
       "    <tr>\n",
       "      <th>0</th>\n",
       "      <td>Bagus</td>\n",
       "      <td>Bagus</td>\n",
       "      <td>Tebal</td>\n",
       "      <td>Tidak ada yang diganti</td>\n",
       "    </tr>\n",
       "    <tr>\n",
       "      <th>1</th>\n",
       "      <td>Bocor</td>\n",
       "      <td>Bagus</td>\n",
       "      <td>Tebal</td>\n",
       "      <td>Sil master diganti</td>\n",
       "    </tr>\n",
       "    <tr>\n",
       "      <th>2</th>\n",
       "      <td>Bocor</td>\n",
       "      <td>Rusak</td>\n",
       "      <td>Tebal</td>\n",
       "      <td>Ganti sil master kemudian ring piston</td>\n",
       "    </tr>\n",
       "    <tr>\n",
       "      <th>3</th>\n",
       "      <td>Bocor</td>\n",
       "      <td>Bagus</td>\n",
       "      <td>Tipis</td>\n",
       "      <td>Ganti sil master kemudian kampas rem</td>\n",
       "    </tr>\n",
       "    <tr>\n",
       "      <th>4</th>\n",
       "      <td>Bagus</td>\n",
       "      <td>Bagus</td>\n",
       "      <td>Tipis</td>\n",
       "      <td>Ganti kampas rem</td>\n",
       "    </tr>\n",
       "  </tbody>\n",
       "</table>\n",
       "</div>"
      ],
      "text/plain": [
       "  Sil Master Ring Piston Kampas Rem                                  Hasil\n",
       "0      Bagus       Bagus      Tebal                 Tidak ada yang diganti\n",
       "1      Bocor       Bagus      Tebal                     Sil master diganti\n",
       "2      Bocor       Rusak      Tebal  Ganti sil master kemudian ring piston\n",
       "3      Bocor       Bagus      Tipis   Ganti sil master kemudian kampas rem\n",
       "4      Bagus       Bagus      Tipis                       Ganti kampas rem"
      ]
     },
     "execution_count": 77,
     "metadata": {},
     "output_type": "execute_result"
    }
   ],
   "source": [
    "# Perbanyak datasetnya\n",
    "data_3_rev = np.concatenate([data_3.values, data_3.values, data_3.values])\n",
    "data_3_rev = pd.DataFrame(data_3_rev)\n",
    "\n",
    "# perbaiki nama_kolomnya\n",
    "data_3_rev.columns = data_3.columns\n",
    "data_3_rev.head()"
   ]
  },
  {
   "cell_type": "markdown",
   "metadata": {},
   "source": [
    "### Random oversampling"
   ]
  },
  {
   "cell_type": "code",
   "execution_count": 82,
   "metadata": {},
   "outputs": [
    {
     "name": "stdout",
     "output_type": "stream",
     "text": [
      "dimensi setelah oversampling\n",
      "X_resampled\n",
      " (21, 3)\n",
      "y_resampled\n",
      " (21,)\n"
     ]
    }
   ],
   "source": [
    "'''\n",
    "import library imblearn. karena data kita mengalami imbalance class\n",
    "di mana imbalance class ini merupakan kondisi ketidakseimabagan jumlah \n",
    "class yang terdistribusi di dalam suatu field/kolom, sehingga menyebabkan\n",
    "sistem tersebut mengalami kesulitasn dalam training dan validasi.\n",
    "'''\n",
    "from imblearn.over_sampling import RandomOverSampler\n",
    "from collections import Counter\n",
    "\n",
    "# kita pecah datasetnya menjadi dua bagian yaitu variabel features dan variabel target\n",
    "# X ==> berisi variabel-variabel features\n",
    "X = data_3.iloc[:, :-1]\n",
    "\n",
    "# Y ==> berisi sebuah variabel target\n",
    "y = data_3.iloc[:, -1]\n",
    "\n",
    "# mulai sampling\n",
    "ros = RandomOverSampler(random_state=0)\n",
    "X_resampled, y_resampled = ros.fit_sample(X, y)\n",
    "print('dimensi setelah oversampling')\n",
    "print('X_resampled\\n', X_resampled.shape)\n",
    "print('y_resampled\\n', y_resampled.shape)"
   ]
  },
  {
   "cell_type": "code",
   "execution_count": 83,
   "metadata": {},
   "outputs": [
    {
     "data": {
      "text/plain": [
       "Ganti sil master kemudian kampas rem                         3\n",
       "Ganti kampas rem                                             3\n",
       "Ganti sil master kemudian ring piston kemudian kampas rem    3\n",
       "Sil master diganti                                           3\n",
       "Ganti ring piston kemudian kampas rem                        3\n",
       "Tidak ada yang diganti                                       3\n",
       "Ganti sil master kemudian ring piston                        3\n",
       "Name: x_resampled, dtype: int64"
      ]
     },
     "execution_count": 83,
     "metadata": {},
     "output_type": "execute_result"
    }
   ],
   "source": [
    "# lihat hasil setelah oversampling\n",
    "out = pd.DataFrame({'x_resampled':y_resampled})\n",
    "out['x_resampled'].value_counts()"
   ]
  },
  {
   "cell_type": "markdown",
   "metadata": {},
   "source": [
    "Trlihat bahwa jumlah setiap class yang tersebar di kolom hasil memiliki jumlah yang sama yakni sebanyak 4. hal ini berarti variabel target telah memiliki class class yang balance"
   ]
  },
  {
   "cell_type": "code",
   "execution_count": 86,
   "metadata": {},
   "outputs": [],
   "source": [
    "# REKONSTRUKSI ULANG DATA_1-Nya\n",
    "data_1_rev = pd.DataFrame(X_resampled)\n",
    "data_1_rev['hasil'] = y_resampled"
   ]
  },
  {
   "cell_type": "markdown",
   "metadata": {},
   "source": [
    "#### perbaiki nama kolomnya "
   ]
  },
  {
   "cell_type": "code",
   "execution_count": 87,
   "metadata": {},
   "outputs": [
    {
     "data": {
      "text/html": [
       "<div>\n",
       "<style scoped>\n",
       "    .dataframe tbody tr th:only-of-type {\n",
       "        vertical-align: middle;\n",
       "    }\n",
       "\n",
       "    .dataframe tbody tr th {\n",
       "        vertical-align: top;\n",
       "    }\n",
       "\n",
       "    .dataframe thead th {\n",
       "        text-align: right;\n",
       "    }\n",
       "</style>\n",
       "<table border=\"1\" class=\"dataframe\">\n",
       "  <thead>\n",
       "    <tr style=\"text-align: right;\">\n",
       "      <th></th>\n",
       "      <th>Sil Master</th>\n",
       "      <th>Ring Piston</th>\n",
       "      <th>Kampas Rem</th>\n",
       "      <th>Hasil</th>\n",
       "    </tr>\n",
       "  </thead>\n",
       "  <tbody>\n",
       "    <tr>\n",
       "      <th>0</th>\n",
       "      <td>Bagus</td>\n",
       "      <td>Bagus</td>\n",
       "      <td>Tebal</td>\n",
       "      <td>Tidak ada yang diganti</td>\n",
       "    </tr>\n",
       "    <tr>\n",
       "      <th>1</th>\n",
       "      <td>Bocor</td>\n",
       "      <td>Bagus</td>\n",
       "      <td>Tebal</td>\n",
       "      <td>Sil master diganti</td>\n",
       "    </tr>\n",
       "    <tr>\n",
       "      <th>2</th>\n",
       "      <td>Bocor</td>\n",
       "      <td>Rusak</td>\n",
       "      <td>Tebal</td>\n",
       "      <td>Ganti sil master kemudian ring piston</td>\n",
       "    </tr>\n",
       "    <tr>\n",
       "      <th>3</th>\n",
       "      <td>Bocor</td>\n",
       "      <td>Bagus</td>\n",
       "      <td>Tipis</td>\n",
       "      <td>Ganti sil master kemudian kampas rem</td>\n",
       "    </tr>\n",
       "    <tr>\n",
       "      <th>4</th>\n",
       "      <td>Bagus</td>\n",
       "      <td>Bagus</td>\n",
       "      <td>Tipis</td>\n",
       "      <td>Ganti kampas rem</td>\n",
       "    </tr>\n",
       "    <tr>\n",
       "      <th>5</th>\n",
       "      <td>Bagus</td>\n",
       "      <td>Rusak</td>\n",
       "      <td>Tipis</td>\n",
       "      <td>Ganti ring piston kemudian kampas rem</td>\n",
       "    </tr>\n",
       "    <tr>\n",
       "      <th>6</th>\n",
       "      <td>Bagus</td>\n",
       "      <td>Bagus</td>\n",
       "      <td>Tipis</td>\n",
       "      <td>Tidak ada yang diganti</td>\n",
       "    </tr>\n",
       "    <tr>\n",
       "      <th>7</th>\n",
       "      <td>Bocor</td>\n",
       "      <td>Rusak</td>\n",
       "      <td>Tipis</td>\n",
       "      <td>Ganti sil master kemudian ring piston kemudian...</td>\n",
       "    </tr>\n",
       "    <tr>\n",
       "      <th>8</th>\n",
       "      <td>Bagus</td>\n",
       "      <td>Rusak</td>\n",
       "      <td>Tebal</td>\n",
       "      <td>Tidak ada yang diganti</td>\n",
       "    </tr>\n",
       "    <tr>\n",
       "      <th>9</th>\n",
       "      <td>Bagus</td>\n",
       "      <td>Rusak</td>\n",
       "      <td>Tipis</td>\n",
       "      <td>Ganti kampas rem</td>\n",
       "    </tr>\n",
       "    <tr>\n",
       "      <th>10</th>\n",
       "      <td>Bagus</td>\n",
       "      <td>Bagus</td>\n",
       "      <td>Tipis</td>\n",
       "      <td>Ganti kampas rem</td>\n",
       "    </tr>\n",
       "    <tr>\n",
       "      <th>11</th>\n",
       "      <td>Bagus</td>\n",
       "      <td>Rusak</td>\n",
       "      <td>Tipis</td>\n",
       "      <td>Ganti ring piston kemudian kampas rem</td>\n",
       "    </tr>\n",
       "    <tr>\n",
       "      <th>12</th>\n",
       "      <td>Bagus</td>\n",
       "      <td>Rusak</td>\n",
       "      <td>Tipis</td>\n",
       "      <td>Ganti ring piston kemudian kampas rem</td>\n",
       "    </tr>\n",
       "    <tr>\n",
       "      <th>13</th>\n",
       "      <td>Bocor</td>\n",
       "      <td>Bagus</td>\n",
       "      <td>Tipis</td>\n",
       "      <td>Ganti sil master kemudian kampas rem</td>\n",
       "    </tr>\n",
       "    <tr>\n",
       "      <th>14</th>\n",
       "      <td>Bocor</td>\n",
       "      <td>Bagus</td>\n",
       "      <td>Tipis</td>\n",
       "      <td>Ganti sil master kemudian kampas rem</td>\n",
       "    </tr>\n",
       "    <tr>\n",
       "      <th>15</th>\n",
       "      <td>Bocor</td>\n",
       "      <td>Rusak</td>\n",
       "      <td>Tebal</td>\n",
       "      <td>Ganti sil master kemudian ring piston</td>\n",
       "    </tr>\n",
       "    <tr>\n",
       "      <th>16</th>\n",
       "      <td>Bocor</td>\n",
       "      <td>Rusak</td>\n",
       "      <td>Tebal</td>\n",
       "      <td>Ganti sil master kemudian ring piston</td>\n",
       "    </tr>\n",
       "    <tr>\n",
       "      <th>17</th>\n",
       "      <td>Bocor</td>\n",
       "      <td>Rusak</td>\n",
       "      <td>Tipis</td>\n",
       "      <td>Ganti sil master kemudian ring piston kemudian...</td>\n",
       "    </tr>\n",
       "    <tr>\n",
       "      <th>18</th>\n",
       "      <td>Bocor</td>\n",
       "      <td>Rusak</td>\n",
       "      <td>Tipis</td>\n",
       "      <td>Ganti sil master kemudian ring piston kemudian...</td>\n",
       "    </tr>\n",
       "    <tr>\n",
       "      <th>19</th>\n",
       "      <td>Bocor</td>\n",
       "      <td>Bagus</td>\n",
       "      <td>Tebal</td>\n",
       "      <td>Sil master diganti</td>\n",
       "    </tr>\n",
       "    <tr>\n",
       "      <th>20</th>\n",
       "      <td>Bocor</td>\n",
       "      <td>Bagus</td>\n",
       "      <td>Tebal</td>\n",
       "      <td>Sil master diganti</td>\n",
       "    </tr>\n",
       "  </tbody>\n",
       "</table>\n",
       "</div>"
      ],
      "text/plain": [
       "   Sil Master Ring Piston Kampas Rem  \\\n",
       "0       Bagus       Bagus      Tebal   \n",
       "1       Bocor       Bagus      Tebal   \n",
       "2       Bocor       Rusak      Tebal   \n",
       "3       Bocor       Bagus      Tipis   \n",
       "4       Bagus       Bagus      Tipis   \n",
       "5       Bagus       Rusak      Tipis   \n",
       "6       Bagus       Bagus      Tipis   \n",
       "7       Bocor       Rusak      Tipis   \n",
       "8       Bagus      Rusak       Tebal   \n",
       "9       Bagus       Rusak      Tipis   \n",
       "10      Bagus       Bagus      Tipis   \n",
       "11      Bagus       Rusak      Tipis   \n",
       "12      Bagus       Rusak      Tipis   \n",
       "13      Bocor       Bagus      Tipis   \n",
       "14      Bocor       Bagus      Tipis   \n",
       "15      Bocor       Rusak      Tebal   \n",
       "16      Bocor       Rusak      Tebal   \n",
       "17      Bocor       Rusak      Tipis   \n",
       "18      Bocor       Rusak      Tipis   \n",
       "19      Bocor       Bagus      Tebal   \n",
       "20      Bocor       Bagus      Tebal   \n",
       "\n",
       "                                                Hasil  \n",
       "0                              Tidak ada yang diganti  \n",
       "1                                  Sil master diganti  \n",
       "2               Ganti sil master kemudian ring piston  \n",
       "3                Ganti sil master kemudian kampas rem  \n",
       "4                                    Ganti kampas rem  \n",
       "5               Ganti ring piston kemudian kampas rem  \n",
       "6                              Tidak ada yang diganti  \n",
       "7   Ganti sil master kemudian ring piston kemudian...  \n",
       "8                              Tidak ada yang diganti  \n",
       "9                                    Ganti kampas rem  \n",
       "10                                   Ganti kampas rem  \n",
       "11              Ganti ring piston kemudian kampas rem  \n",
       "12              Ganti ring piston kemudian kampas rem  \n",
       "13               Ganti sil master kemudian kampas rem  \n",
       "14               Ganti sil master kemudian kampas rem  \n",
       "15              Ganti sil master kemudian ring piston  \n",
       "16              Ganti sil master kemudian ring piston  \n",
       "17  Ganti sil master kemudian ring piston kemudian...  \n",
       "18  Ganti sil master kemudian ring piston kemudian...  \n",
       "19                                 Sil master diganti  \n",
       "20                                 Sil master diganti  "
      ]
     },
     "execution_count": 87,
     "metadata": {},
     "output_type": "execute_result"
    }
   ],
   "source": [
    "list_nama_kolom = data_3.columns # out ==> ['Gas', 'Slongsong Gas', 'Tali Gas', 'Oli', 'Hasil']\n",
    "data_1_rev.columns = list_nama_kolom\n",
    "data_1_rev"
   ]
  },
  {
   "cell_type": "markdown",
   "metadata": {},
   "source": [
    "### Data Encoding (Transformation)"
   ]
  },
  {
   "cell_type": "code",
   "execution_count": 88,
   "metadata": {},
   "outputs": [],
   "source": [
    "from sklearn import preprocessing\n",
    "trans = preprocessing.LabelEncoder()\n",
    "columns = data_1_rev.columns\n",
    "data_encoded_storage = {}\n",
    "labels_storage = {} # ini untuk meta data\n",
    "for col in columns:\n",
    "    out = trans.fit_transform(data_1_rev[col])\n",
    "    out_lbl = trans.classes_\n",
    "    labels_storage.update({col:out_lbl})\n",
    "    data_encoded_storage.update({col:out})"
   ]
  },
  {
   "cell_type": "markdown",
   "metadata": {},
   "source": [
    "### Rekonstruksi kembali dataset data_1_rev-nya ke dalam dataframe"
   ]
  },
  {
   "cell_type": "code",
   "execution_count": 89,
   "metadata": {},
   "outputs": [
    {
     "data": {
      "text/html": [
       "<div>\n",
       "<style scoped>\n",
       "    .dataframe tbody tr th:only-of-type {\n",
       "        vertical-align: middle;\n",
       "    }\n",
       "\n",
       "    .dataframe tbody tr th {\n",
       "        vertical-align: top;\n",
       "    }\n",
       "\n",
       "    .dataframe thead th {\n",
       "        text-align: right;\n",
       "    }\n",
       "</style>\n",
       "<table border=\"1\" class=\"dataframe\">\n",
       "  <thead>\n",
       "    <tr style=\"text-align: right;\">\n",
       "      <th></th>\n",
       "      <th>Sil Master</th>\n",
       "      <th>Ring Piston</th>\n",
       "      <th>Kampas Rem</th>\n",
       "      <th>Hasil</th>\n",
       "    </tr>\n",
       "  </thead>\n",
       "  <tbody>\n",
       "    <tr>\n",
       "      <th>0</th>\n",
       "      <td>0</td>\n",
       "      <td>0</td>\n",
       "      <td>0</td>\n",
       "      <td>6</td>\n",
       "    </tr>\n",
       "    <tr>\n",
       "      <th>1</th>\n",
       "      <td>1</td>\n",
       "      <td>0</td>\n",
       "      <td>0</td>\n",
       "      <td>5</td>\n",
       "    </tr>\n",
       "    <tr>\n",
       "      <th>2</th>\n",
       "      <td>1</td>\n",
       "      <td>1</td>\n",
       "      <td>0</td>\n",
       "      <td>3</td>\n",
       "    </tr>\n",
       "    <tr>\n",
       "      <th>3</th>\n",
       "      <td>1</td>\n",
       "      <td>0</td>\n",
       "      <td>1</td>\n",
       "      <td>2</td>\n",
       "    </tr>\n",
       "    <tr>\n",
       "      <th>4</th>\n",
       "      <td>0</td>\n",
       "      <td>0</td>\n",
       "      <td>1</td>\n",
       "      <td>0</td>\n",
       "    </tr>\n",
       "  </tbody>\n",
       "</table>\n",
       "</div>"
      ],
      "text/plain": [
       "   Sil Master  Ring Piston  Kampas Rem  Hasil\n",
       "0           0            0           0      6\n",
       "1           1            0           0      5\n",
       "2           1            1           0      3\n",
       "3           1            0           1      2\n",
       "4           0            0           1      0"
      ]
     },
     "execution_count": 89,
     "metadata": {},
     "output_type": "execute_result"
    }
   ],
   "source": [
    "data_1_rev = pd.DataFrame(data_encoded_storage)\n",
    "data_1_rev.head() # lihat cuman 5 record data saja"
   ]
  },
  {
   "cell_type": "markdown",
   "metadata": {},
   "source": [
    "### Splitting datanya menjadi training dan testing"
   ]
  },
  {
   "cell_type": "code",
   "execution_count": 90,
   "metadata": {},
   "outputs": [
    {
     "name": "stdout",
     "output_type": "stream",
     "text": [
      "x_train :  (16, 3)\n",
      "y_train :  (16,)\n",
      "x_test  :  (5, 3)\n",
      "y_test  :  (5,)\n"
     ]
    }
   ],
   "source": [
    "from sklearn import model_selection\n",
    "FEATURES = data_1_rev.iloc[:, :-1]\n",
    "TARGET = data_1_rev.iloc[:, -1]\n",
    "x_train, x_test, y_train, y_test = model_selection.train_test_split(\n",
    "    FEATURES, \n",
    "    TARGET, \n",
    "    test_size=0.2\n",
    ")\n",
    "# cek dimensi datanya \n",
    "print('x_train : ', x_train.shape)\n",
    "print('y_train : ', y_train.shape)\n",
    "print('x_test  : ',  x_test.shape)\n",
    "print('y_test  : ',  y_test.shape)"
   ]
  },
  {
   "cell_type": "code",
   "execution_count": 91,
   "metadata": {},
   "outputs": [
    {
     "name": "stdout",
     "output_type": "stream",
     "text": [
      "\n",
      " Support_vector_machine :\n",
      "              precision    recall  f1-score   support\n",
      "\n",
      "           1       1.00      1.00      1.00         1\n",
      "           3       1.00      1.00      1.00         1\n",
      "           4       1.00      1.00      1.00         1\n",
      "           5       0.50      1.00      0.67         1\n",
      "           6       0.00      0.00      0.00         1\n",
      "\n",
      "   micro avg       0.80      0.80      0.80         5\n",
      "   macro avg       0.70      0.80      0.73         5\n",
      "weighted avg       0.70      0.80      0.73         5\n",
      "\n",
      "accuracy : \n",
      " 80.0 %\n",
      "\n",
      "\n",
      " Decission_Tree :\n",
      "              precision    recall  f1-score   support\n",
      "\n",
      "           0       0.00      0.00      0.00         0\n",
      "           1       1.00      1.00      1.00         1\n",
      "           3       1.00      1.00      1.00         1\n",
      "           4       1.00      1.00      1.00         1\n",
      "           5       1.00      1.00      1.00         1\n",
      "           6       0.00      0.00      0.00         1\n",
      "\n",
      "   micro avg       0.80      0.80      0.80         5\n",
      "   macro avg       0.67      0.67      0.67         5\n",
      "weighted avg       0.80      0.80      0.80         5\n",
      "\n",
      "accuracy : \n",
      " 80.0 %\n",
      "\n",
      "\n",
      " multi_layer_perceptron :\n",
      "              precision    recall  f1-score   support\n",
      "\n",
      "           1       1.00      1.00      1.00         1\n",
      "           3       1.00      1.00      1.00         1\n",
      "           4       1.00      1.00      1.00         1\n",
      "           5       1.00      1.00      1.00         1\n",
      "           6       1.00      1.00      1.00         1\n",
      "\n",
      "   micro avg       1.00      1.00      1.00         5\n",
      "   macro avg       1.00      1.00      1.00         5\n",
      "weighted avg       1.00      1.00      1.00         5\n",
      "\n",
      "accuracy : \n",
      " 100.0 %\n",
      "\n"
     ]
    }
   ],
   "source": [
    "# import library algoritma pelatihannya\n",
    "from sklearn.svm import SVC\n",
    "from sklearn.tree import DecisionTreeClassifier\n",
    "from sklearn.neural_network import MLPClassifier\n",
    "\n",
    "# import library untuk mengukur akurasi dan laporan hasil klasifikasi\n",
    "from sklearn.metrics import accuracy_score, classification_report\n",
    "\n",
    "# inisialisasi model-nya\n",
    "models = {\n",
    "    \"Support_vector_machine\": SVC(kernel=\"linear\", gamma=\"auto\"),\n",
    "    \"Decission_Tree\": DecisionTreeClassifier(criterion='entropy'),\n",
    "    \"multi_layer_perceptron\": MLPClassifier(hidden_layer_sizes=(250),max_iter=1000,batch_size=100)\n",
    "}\n",
    "\n",
    "# membuat fungsi untuk melakukan fungsi fitting atau training\n",
    "def train_model (model,xtrain,ytrain):\n",
    "    model.fit(xtrain,ytrain)\n",
    "\n",
    "# membuat fungsi untuk menampilkan akurasi dan classifiation_report\n",
    "def predict(i,model,xtest,ytest):\n",
    "    pred = model.predict(xtest)\n",
    "    accuracy = accuracy_score(ytest, pred) * 100\n",
    "    print(\"\\n\",i,\":\")\n",
    "    print(classification_report(ytest, pred))\n",
    "    print(\"accuracy : \\n\", round(accuracy,3),\"%\\n\")\n",
    "\n",
    "# melakukan training dengan menggunakan semua algoritma yang telah diinisialisasi\n",
    "for i in models:\n",
    "    train_model(models[i],x_train,y_train)\n",
    "    predict(i,models[i],x_test,y_test)"
   ]
  },
  {
   "cell_type": "code",
   "execution_count": 51,
   "metadata": {},
   "outputs": [
    {
     "data": {
      "text/plain": [
       "array(['Ganti kampas rem', 'Ganti ring piston kemudian kampas rem',\n",
       "       'Ganti sil master kemudian kampas rem',\n",
       "       'Ganti sil master kemudian ring piston',\n",
       "       'Ganti sil master kemudian ring piston kemudian kampas rem',\n",
       "       'Sil master diganti', 'Tidak ada yang diganti'], dtype=object)"
      ]
     },
     "execution_count": 51,
     "metadata": {},
     "output_type": "execute_result"
    }
   ],
   "source": [
    "labels_storage.get('Hasil')"
   ]
  },
  {
   "cell_type": "code",
   "execution_count": 92,
   "metadata": {},
   "outputs": [
    {
     "name": "stdout",
     "output_type": "stream",
     "text": [
      "Done\n"
     ]
    }
   ],
   "source": [
    "# kita siimpan model yang sudah dihasilkan ke format pickle (.pkl)\n",
    "# import library pickle-nya\n",
    "import pickle\n",
    "import os \n",
    "\n",
    "# ambil models nya\n",
    "data_no = 3\n",
    "folder_name = 'model_{}'.format(data_no)\n",
    "\n",
    "if os.path.exists(folder_name):\n",
    "    print('path exist')\n",
    "else:\n",
    "    os.mkdir(folder_name)\n",
    "\n",
    "model_mlp = models['multi_layer_perceptron']\n",
    "\n",
    "# simpan file model yang sudah dilatih ke dalam format pickle\n",
    "model_name = '{}/model_data_{}.pkl'.format(folder_name, data_no)\n",
    "pickle.dump(model_mlp, open(model_name, 'wb'))\n",
    "\n",
    "# simpan variabel class_keputusan ke dalam format pickle\n",
    "label_name = '{}/label_data_{}.pkl'.format(folder_name, data_no)\n",
    "pickle.dump(labels_storage, open(label_name, 'wb'))\n",
    "\n",
    "print('Done')"
   ]
  },
  {
   "cell_type": "code",
   "execution_count": null,
   "metadata": {},
   "outputs": [],
   "source": []
  }
 ],
 "metadata": {
  "kernelspec": {
   "display_name": "Python [conda env:gpu] *",
   "language": "python",
   "name": "conda-env-gpu-py"
  },
  "language_info": {
   "codemirror_mode": {
    "name": "ipython",
    "version": 3
   },
   "file_extension": ".py",
   "mimetype": "text/x-python",
   "name": "python",
   "nbconvert_exporter": "python",
   "pygments_lexer": "ipython3",
   "version": "3.6.5"
  }
 },
 "nbformat": 4,
 "nbformat_minor": 2
}
