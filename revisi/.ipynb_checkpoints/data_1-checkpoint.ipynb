{
 "cells": [
  {
   "cell_type": "code",
   "execution_count": 7,
   "metadata": {},
   "outputs": [],
   "source": [
    "import numpy as np \n",
    "import pandas as pd \n",
    "import sklearn\n",
    "import warnings"
   ]
  },
  {
   "cell_type": "code",
   "execution_count": 8,
   "metadata": {},
   "outputs": [],
   "source": [
    "def warn(*args, **kwargs):\n",
    "    pass \n",
    "warnings.warn = warn"
   ]
  },
  {
   "cell_type": "code",
   "execution_count": 9,
   "metadata": {},
   "outputs": [
    {
     "name": "stdout",
     "output_type": "stream",
     "text": [
      "(n_baris, n_kolom)\n",
      "data_1 :\n",
      " (21, 5)\n"
     ]
    }
   ],
   "source": [
    "# file csv yang akan diproses\n",
    "file_1 = 'gas.csv'\n",
    "\n",
    "# panggil  filenya dan masukan ke dalam variabel data_n\n",
    "data_1 = pd.read_csv(file_1)\n",
    "\n",
    "# lihat dimensi semua filenya \n",
    "print('(n_baris, n_kolom)')\n",
    "print('data_1 :\\n', data_1.shape)"
   ]
  },
  {
   "cell_type": "markdown",
   "metadata": {},
   "source": [
    "### DATA_1"
   ]
  },
  {
   "cell_type": "code",
   "execution_count": 10,
   "metadata": {},
   "outputs": [
    {
     "name": "stdout",
     "output_type": "stream",
     "text": [
      "Gas  :\n",
      " ['Normal' 'Normal ' 'Berat' 'Sedang']\n",
      "Slongsong Gas  :\n",
      " ['Bagus' 'Sangat berkarat' 'Cukup berkarat']\n",
      "Tali Gas  :\n",
      " ['Bagus' 'Putus']\n",
      "Oli  :\n",
      " ['<1bulan' '>1bulan' '>3bulan']\n",
      "Hasil  :\n",
      " ['Kondisi baik' 'Kondisi rusak']\n"
     ]
    }
   ],
   "source": [
    "# lihat unique setiap kolom \n",
    "for col in data_1.columns:\n",
    "    out = data_1[col].unique()\n",
    "    print(col, ' :\\n', out)"
   ]
  },
  {
   "cell_type": "code",
   "execution_count": 11,
   "metadata": {},
   "outputs": [
    {
     "data": {
      "text/plain": [
       "array(['Kondisi baik', 'Kondisi rusak'], dtype=object)"
      ]
     },
     "execution_count": 11,
     "metadata": {},
     "output_type": "execute_result"
    }
   ],
   "source": [
    "# kita lihat nilai - nilai unique dalam datanya\n",
    "data_1['Hasil'].unique()"
   ]
  },
  {
   "cell_type": "code",
   "execution_count": 12,
   "metadata": {},
   "outputs": [
    {
     "data": {
      "text/plain": [
       "Kondisi rusak    18\n",
       "Kondisi baik      3\n",
       "Name: Hasil, dtype: int64"
      ]
     },
     "execution_count": 12,
     "metadata": {},
     "output_type": "execute_result"
    }
   ],
   "source": [
    "# kita hitung berapa jumlah kelas di kolom 'Hasil' tersbeut \n",
    "data_1['Hasil'].value_counts()"
   ]
  },
  {
   "cell_type": "markdown",
   "metadata": {},
   "source": [
    "Terlihat bahwa jumlah class yang tersebar di dalam kolom Hasil itu bersifat tidak merata. artinya class 'Tidak ada yang diganti' memiliki jumlah paling banyak (mendominasi) dibandingkan dengan class yang lain seperti 'Oli diganti', 'tali gas diganti' dll. sehingga, agar menghasilkan model yang baik, maka jumlah class ini harus disama-ratakan (balancing) agar distribusi nilainya merata. sehingga akan semakin baik dalam menyimpulkan/memprediksi data"
   ]
  },
  {
   "cell_type": "markdown",
   "metadata": {},
   "source": [
    "### Random oversampling"
   ]
  },
  {
   "cell_type": "code",
   "execution_count": 13,
   "metadata": {},
   "outputs": [
    {
     "name": "stdout",
     "output_type": "stream",
     "text": [
      "dimensi setelah oversampling\n",
      "X_resampled\n",
      " (36, 4)\n",
      "y_resampled\n",
      " (36,)\n"
     ]
    }
   ],
   "source": [
    "'''\n",
    "import library imblearn. karena data kita mengalami imbalance class\n",
    "di mana imbalance class ini merupakan kondisi ketidakseimabagan jumlah \n",
    "class yang terdistribusi di dalam suatu field/kolom, sehingga menyebabkan\n",
    "sistem tersebut mengalami kesulitasn dalam training dan validasi.\n",
    "'''\n",
    "from imblearn.over_sampling import RandomOverSampler\n",
    "from collections import Counter\n",
    "\n",
    "# kita pecah datasetnya menjadi dua bagian yaitu variabel features dan variabel target\n",
    "# X ==> berisi variabel-variabel features\n",
    "X = data_1.iloc[:, :-1]\n",
    "\n",
    "# Y ==> berisi sebuah variabel target\n",
    "y = data_1.iloc[:, -1]\n",
    "\n",
    "# mulai sampling\n",
    "ros = RandomOverSampler(random_state=0)\n",
    "X_resampled, y_resampled = ros.fit_sample(X, y)\n",
    "print('dimensi setelah oversampling')\n",
    "print('X_resampled\\n', X_resampled.shape)\n",
    "print('y_resampled\\n', y_resampled.shape)"
   ]
  },
  {
   "cell_type": "code",
   "execution_count": 14,
   "metadata": {},
   "outputs": [
    {
     "data": {
      "text/plain": [
       "Kondisi rusak    18\n",
       "Kondisi baik     18\n",
       "Name: x_resampled, dtype: int64"
      ]
     },
     "execution_count": 14,
     "metadata": {},
     "output_type": "execute_result"
    }
   ],
   "source": [
    "# lihat hasil setelah oversampling\n",
    "out = pd.DataFrame({'x_resampled':y_resampled})\n",
    "out['x_resampled'].value_counts()"
   ]
  },
  {
   "cell_type": "markdown",
   "metadata": {},
   "source": [
    "Trlihat bahwa jumlah setiap class yang tersebar di kolom hasil memiliki jumlah yang sama yakni sebanyak 4. hal ini berarti variabel target telah memiliki class class yang balance"
   ]
  },
  {
   "cell_type": "code",
   "execution_count": 15,
   "metadata": {},
   "outputs": [
    {
     "data": {
      "text/html": [
       "<div>\n",
       "<style scoped>\n",
       "    .dataframe tbody tr th:only-of-type {\n",
       "        vertical-align: middle;\n",
       "    }\n",
       "\n",
       "    .dataframe tbody tr th {\n",
       "        vertical-align: top;\n",
       "    }\n",
       "\n",
       "    .dataframe thead th {\n",
       "        text-align: right;\n",
       "    }\n",
       "</style>\n",
       "<table border=\"1\" class=\"dataframe\">\n",
       "  <thead>\n",
       "    <tr style=\"text-align: right;\">\n",
       "      <th></th>\n",
       "      <th>0</th>\n",
       "      <th>1</th>\n",
       "      <th>2</th>\n",
       "      <th>3</th>\n",
       "      <th>hasil</th>\n",
       "    </tr>\n",
       "  </thead>\n",
       "  <tbody>\n",
       "    <tr>\n",
       "      <th>0</th>\n",
       "      <td>Normal</td>\n",
       "      <td>Bagus</td>\n",
       "      <td>Bagus</td>\n",
       "      <td>&lt;1bulan</td>\n",
       "      <td>Kondisi baik</td>\n",
       "    </tr>\n",
       "    <tr>\n",
       "      <th>1</th>\n",
       "      <td>Normal</td>\n",
       "      <td>Bagus</td>\n",
       "      <td>Bagus</td>\n",
       "      <td>&gt;1bulan</td>\n",
       "      <td>Kondisi rusak</td>\n",
       "    </tr>\n",
       "    <tr>\n",
       "      <th>2</th>\n",
       "      <td>Normal</td>\n",
       "      <td>Bagus</td>\n",
       "      <td>Putus</td>\n",
       "      <td>&gt;1bulan</td>\n",
       "      <td>Kondisi rusak</td>\n",
       "    </tr>\n",
       "    <tr>\n",
       "      <th>3</th>\n",
       "      <td>Normal</td>\n",
       "      <td>Sangat berkarat</td>\n",
       "      <td>Putus</td>\n",
       "      <td>&gt;1bulan</td>\n",
       "      <td>Kondisi rusak</td>\n",
       "    </tr>\n",
       "    <tr>\n",
       "      <th>4</th>\n",
       "      <td>Berat</td>\n",
       "      <td>Sangat berkarat</td>\n",
       "      <td>Putus</td>\n",
       "      <td>&gt;1bulan</td>\n",
       "      <td>Kondisi rusak</td>\n",
       "    </tr>\n",
       "  </tbody>\n",
       "</table>\n",
       "</div>"
      ],
      "text/plain": [
       "         0                1      2        3          hasil\n",
       "0   Normal            Bagus  Bagus  <1bulan   Kondisi baik\n",
       "1   Normal            Bagus  Bagus  >1bulan  Kondisi rusak\n",
       "2   Normal            Bagus  Putus  >1bulan  Kondisi rusak\n",
       "3  Normal   Sangat berkarat  Putus  >1bulan  Kondisi rusak\n",
       "4    Berat  Sangat berkarat  Putus  >1bulan  Kondisi rusak"
      ]
     },
     "execution_count": 15,
     "metadata": {},
     "output_type": "execute_result"
    }
   ],
   "source": [
    "# REKONSTRUKSI ULANG DATA_1-Nya\n",
    "data_1_rev = pd.DataFrame(X_resampled)\n",
    "data_1_rev['hasil'] = y_resampled\n",
    "data_1_rev.head()"
   ]
  },
  {
   "cell_type": "markdown",
   "metadata": {},
   "source": [
    "#### perbaiki nama kolomnya "
   ]
  },
  {
   "cell_type": "code",
   "execution_count": 16,
   "metadata": {},
   "outputs": [
    {
     "data": {
      "text/html": [
       "<div>\n",
       "<style scoped>\n",
       "    .dataframe tbody tr th:only-of-type {\n",
       "        vertical-align: middle;\n",
       "    }\n",
       "\n",
       "    .dataframe tbody tr th {\n",
       "        vertical-align: top;\n",
       "    }\n",
       "\n",
       "    .dataframe thead th {\n",
       "        text-align: right;\n",
       "    }\n",
       "</style>\n",
       "<table border=\"1\" class=\"dataframe\">\n",
       "  <thead>\n",
       "    <tr style=\"text-align: right;\">\n",
       "      <th></th>\n",
       "      <th>Gas</th>\n",
       "      <th>Slongsong Gas</th>\n",
       "      <th>Tali Gas</th>\n",
       "      <th>Oli</th>\n",
       "      <th>Hasil</th>\n",
       "    </tr>\n",
       "  </thead>\n",
       "  <tbody>\n",
       "    <tr>\n",
       "      <th>0</th>\n",
       "      <td>Normal</td>\n",
       "      <td>Bagus</td>\n",
       "      <td>Bagus</td>\n",
       "      <td>&lt;1bulan</td>\n",
       "      <td>Kondisi baik</td>\n",
       "    </tr>\n",
       "    <tr>\n",
       "      <th>1</th>\n",
       "      <td>Normal</td>\n",
       "      <td>Bagus</td>\n",
       "      <td>Bagus</td>\n",
       "      <td>&gt;1bulan</td>\n",
       "      <td>Kondisi rusak</td>\n",
       "    </tr>\n",
       "    <tr>\n",
       "      <th>2</th>\n",
       "      <td>Normal</td>\n",
       "      <td>Bagus</td>\n",
       "      <td>Putus</td>\n",
       "      <td>&gt;1bulan</td>\n",
       "      <td>Kondisi rusak</td>\n",
       "    </tr>\n",
       "    <tr>\n",
       "      <th>3</th>\n",
       "      <td>Normal</td>\n",
       "      <td>Sangat berkarat</td>\n",
       "      <td>Putus</td>\n",
       "      <td>&gt;1bulan</td>\n",
       "      <td>Kondisi rusak</td>\n",
       "    </tr>\n",
       "    <tr>\n",
       "      <th>4</th>\n",
       "      <td>Berat</td>\n",
       "      <td>Sangat berkarat</td>\n",
       "      <td>Putus</td>\n",
       "      <td>&gt;1bulan</td>\n",
       "      <td>Kondisi rusak</td>\n",
       "    </tr>\n",
       "    <tr>\n",
       "      <th>5</th>\n",
       "      <td>Normal</td>\n",
       "      <td>Bagus</td>\n",
       "      <td>Putus</td>\n",
       "      <td>&lt;1bulan</td>\n",
       "      <td>Kondisi rusak</td>\n",
       "    </tr>\n",
       "    <tr>\n",
       "      <th>6</th>\n",
       "      <td>Normal</td>\n",
       "      <td>Sangat berkarat</td>\n",
       "      <td>Bagus</td>\n",
       "      <td>&lt;1bulan</td>\n",
       "      <td>Kondisi rusak</td>\n",
       "    </tr>\n",
       "    <tr>\n",
       "      <th>7</th>\n",
       "      <td>Berat</td>\n",
       "      <td>Bagus</td>\n",
       "      <td>Bagus</td>\n",
       "      <td>&lt;1bulan</td>\n",
       "      <td>Kondisi rusak</td>\n",
       "    </tr>\n",
       "    <tr>\n",
       "      <th>8</th>\n",
       "      <td>Berat</td>\n",
       "      <td>Sangat berkarat</td>\n",
       "      <td>Putus</td>\n",
       "      <td>&lt;1bulan</td>\n",
       "      <td>Kondisi rusak</td>\n",
       "    </tr>\n",
       "    <tr>\n",
       "      <th>9</th>\n",
       "      <td>Normal</td>\n",
       "      <td>Bagus</td>\n",
       "      <td>Bagus</td>\n",
       "      <td>&gt;1bulan</td>\n",
       "      <td>Kondisi rusak</td>\n",
       "    </tr>\n",
       "    <tr>\n",
       "      <th>10</th>\n",
       "      <td>Normal</td>\n",
       "      <td>Sangat berkarat</td>\n",
       "      <td>Putus</td>\n",
       "      <td>&lt;1bulan</td>\n",
       "      <td>Kondisi rusak</td>\n",
       "    </tr>\n",
       "    <tr>\n",
       "      <th>11</th>\n",
       "      <td>Berat</td>\n",
       "      <td>Sangat berkarat</td>\n",
       "      <td>Bagus</td>\n",
       "      <td>&lt;1bulan</td>\n",
       "      <td>Kondisi rusak</td>\n",
       "    </tr>\n",
       "    <tr>\n",
       "      <th>12</th>\n",
       "      <td>Sedang</td>\n",
       "      <td>Cukup berkarat</td>\n",
       "      <td>Bagus</td>\n",
       "      <td>&lt;1bulan</td>\n",
       "      <td>Kondisi baik</td>\n",
       "    </tr>\n",
       "    <tr>\n",
       "      <th>13</th>\n",
       "      <td>Sedang</td>\n",
       "      <td>Sangat berkarat</td>\n",
       "      <td>Putus</td>\n",
       "      <td>&lt;1bulan</td>\n",
       "      <td>Kondisi rusak</td>\n",
       "    </tr>\n",
       "    <tr>\n",
       "      <th>14</th>\n",
       "      <td>Sedang</td>\n",
       "      <td>Sangat berkarat</td>\n",
       "      <td>Putus</td>\n",
       "      <td>&gt;1bulan</td>\n",
       "      <td>Kondisi rusak</td>\n",
       "    </tr>\n",
       "    <tr>\n",
       "      <th>15</th>\n",
       "      <td>Berat</td>\n",
       "      <td>Cukup berkarat</td>\n",
       "      <td>Bagus</td>\n",
       "      <td>&lt;1bulan</td>\n",
       "      <td>Kondisi rusak</td>\n",
       "    </tr>\n",
       "    <tr>\n",
       "      <th>16</th>\n",
       "      <td>Normal</td>\n",
       "      <td>Cukup berkarat</td>\n",
       "      <td>Bagus</td>\n",
       "      <td>&gt;3bulan</td>\n",
       "      <td>Kondisi rusak</td>\n",
       "    </tr>\n",
       "    <tr>\n",
       "      <th>17</th>\n",
       "      <td>Normal</td>\n",
       "      <td>Sangat berkarat</td>\n",
       "      <td>Bagus</td>\n",
       "      <td>&gt;3bulan</td>\n",
       "      <td>Kondisi rusak</td>\n",
       "    </tr>\n",
       "    <tr>\n",
       "      <th>18</th>\n",
       "      <td>Normal</td>\n",
       "      <td>Sangat berkarat</td>\n",
       "      <td>Putus</td>\n",
       "      <td>&gt;3bulan</td>\n",
       "      <td>Kondisi rusak</td>\n",
       "    </tr>\n",
       "    <tr>\n",
       "      <th>19</th>\n",
       "      <td>Normal</td>\n",
       "      <td>Cukup berkarat</td>\n",
       "      <td>Bagus</td>\n",
       "      <td>&gt;3bulan</td>\n",
       "      <td>Kondisi baik</td>\n",
       "    </tr>\n",
       "    <tr>\n",
       "      <th>20</th>\n",
       "      <td>Berat</td>\n",
       "      <td>Cukup berkarat</td>\n",
       "      <td>Bagus</td>\n",
       "      <td>&gt;3bulan</td>\n",
       "      <td>Kondisi rusak</td>\n",
       "    </tr>\n",
       "    <tr>\n",
       "      <th>21</th>\n",
       "      <td>Normal</td>\n",
       "      <td>Bagus</td>\n",
       "      <td>Bagus</td>\n",
       "      <td>&lt;1bulan</td>\n",
       "      <td>Kondisi baik</td>\n",
       "    </tr>\n",
       "    <tr>\n",
       "      <th>22</th>\n",
       "      <td>Sedang</td>\n",
       "      <td>Cukup berkarat</td>\n",
       "      <td>Bagus</td>\n",
       "      <td>&lt;1bulan</td>\n",
       "      <td>Kondisi baik</td>\n",
       "    </tr>\n",
       "    <tr>\n",
       "      <th>23</th>\n",
       "      <td>Normal</td>\n",
       "      <td>Bagus</td>\n",
       "      <td>Bagus</td>\n",
       "      <td>&lt;1bulan</td>\n",
       "      <td>Kondisi baik</td>\n",
       "    </tr>\n",
       "    <tr>\n",
       "      <th>24</th>\n",
       "      <td>Sedang</td>\n",
       "      <td>Cukup berkarat</td>\n",
       "      <td>Bagus</td>\n",
       "      <td>&lt;1bulan</td>\n",
       "      <td>Kondisi baik</td>\n",
       "    </tr>\n",
       "    <tr>\n",
       "      <th>25</th>\n",
       "      <td>Sedang</td>\n",
       "      <td>Cukup berkarat</td>\n",
       "      <td>Bagus</td>\n",
       "      <td>&lt;1bulan</td>\n",
       "      <td>Kondisi baik</td>\n",
       "    </tr>\n",
       "    <tr>\n",
       "      <th>26</th>\n",
       "      <td>Normal</td>\n",
       "      <td>Cukup berkarat</td>\n",
       "      <td>Bagus</td>\n",
       "      <td>&gt;3bulan</td>\n",
       "      <td>Kondisi baik</td>\n",
       "    </tr>\n",
       "    <tr>\n",
       "      <th>27</th>\n",
       "      <td>Normal</td>\n",
       "      <td>Bagus</td>\n",
       "      <td>Bagus</td>\n",
       "      <td>&lt;1bulan</td>\n",
       "      <td>Kondisi baik</td>\n",
       "    </tr>\n",
       "    <tr>\n",
       "      <th>28</th>\n",
       "      <td>Normal</td>\n",
       "      <td>Cukup berkarat</td>\n",
       "      <td>Bagus</td>\n",
       "      <td>&gt;3bulan</td>\n",
       "      <td>Kondisi baik</td>\n",
       "    </tr>\n",
       "    <tr>\n",
       "      <th>29</th>\n",
       "      <td>Normal</td>\n",
       "      <td>Bagus</td>\n",
       "      <td>Bagus</td>\n",
       "      <td>&lt;1bulan</td>\n",
       "      <td>Kondisi baik</td>\n",
       "    </tr>\n",
       "    <tr>\n",
       "      <th>30</th>\n",
       "      <td>Normal</td>\n",
       "      <td>Bagus</td>\n",
       "      <td>Bagus</td>\n",
       "      <td>&lt;1bulan</td>\n",
       "      <td>Kondisi baik</td>\n",
       "    </tr>\n",
       "    <tr>\n",
       "      <th>31</th>\n",
       "      <td>Normal</td>\n",
       "      <td>Bagus</td>\n",
       "      <td>Bagus</td>\n",
       "      <td>&lt;1bulan</td>\n",
       "      <td>Kondisi baik</td>\n",
       "    </tr>\n",
       "    <tr>\n",
       "      <th>32</th>\n",
       "      <td>Normal</td>\n",
       "      <td>Cukup berkarat</td>\n",
       "      <td>Bagus</td>\n",
       "      <td>&gt;3bulan</td>\n",
       "      <td>Kondisi baik</td>\n",
       "    </tr>\n",
       "    <tr>\n",
       "      <th>33</th>\n",
       "      <td>Sedang</td>\n",
       "      <td>Cukup berkarat</td>\n",
       "      <td>Bagus</td>\n",
       "      <td>&lt;1bulan</td>\n",
       "      <td>Kondisi baik</td>\n",
       "    </tr>\n",
       "    <tr>\n",
       "      <th>34</th>\n",
       "      <td>Normal</td>\n",
       "      <td>Cukup berkarat</td>\n",
       "      <td>Bagus</td>\n",
       "      <td>&gt;3bulan</td>\n",
       "      <td>Kondisi baik</td>\n",
       "    </tr>\n",
       "    <tr>\n",
       "      <th>35</th>\n",
       "      <td>Normal</td>\n",
       "      <td>Cukup berkarat</td>\n",
       "      <td>Bagus</td>\n",
       "      <td>&gt;3bulan</td>\n",
       "      <td>Kondisi baik</td>\n",
       "    </tr>\n",
       "  </tbody>\n",
       "</table>\n",
       "</div>"
      ],
      "text/plain": [
       "        Gas    Slongsong Gas Tali Gas      Oli          Hasil\n",
       "0    Normal            Bagus    Bagus  <1bulan   Kondisi baik\n",
       "1    Normal            Bagus    Bagus  >1bulan  Kondisi rusak\n",
       "2    Normal            Bagus    Putus  >1bulan  Kondisi rusak\n",
       "3   Normal   Sangat berkarat    Putus  >1bulan  Kondisi rusak\n",
       "4     Berat  Sangat berkarat    Putus  >1bulan  Kondisi rusak\n",
       "5    Normal            Bagus    Putus  <1bulan  Kondisi rusak\n",
       "6    Normal  Sangat berkarat    Bagus  <1bulan  Kondisi rusak\n",
       "7     Berat            Bagus    Bagus  <1bulan  Kondisi rusak\n",
       "8     Berat  Sangat berkarat    Putus  <1bulan  Kondisi rusak\n",
       "9    Normal            Bagus    Bagus  >1bulan  Kondisi rusak\n",
       "10  Normal   Sangat berkarat    Putus  <1bulan  Kondisi rusak\n",
       "11    Berat  Sangat berkarat    Bagus  <1bulan  Kondisi rusak\n",
       "12   Sedang   Cukup berkarat    Bagus  <1bulan   Kondisi baik\n",
       "13   Sedang  Sangat berkarat    Putus  <1bulan  Kondisi rusak\n",
       "14   Sedang  Sangat berkarat    Putus  >1bulan  Kondisi rusak\n",
       "15    Berat   Cukup berkarat    Bagus  <1bulan  Kondisi rusak\n",
       "16   Normal   Cukup berkarat    Bagus  >3bulan  Kondisi rusak\n",
       "17   Normal  Sangat berkarat    Bagus  >3bulan  Kondisi rusak\n",
       "18   Normal  Sangat berkarat    Putus  >3bulan  Kondisi rusak\n",
       "19   Normal   Cukup berkarat    Bagus  >3bulan   Kondisi baik\n",
       "20    Berat   Cukup berkarat    Bagus  >3bulan  Kondisi rusak\n",
       "21   Normal            Bagus    Bagus  <1bulan   Kondisi baik\n",
       "22   Sedang   Cukup berkarat    Bagus  <1bulan   Kondisi baik\n",
       "23   Normal            Bagus    Bagus  <1bulan   Kondisi baik\n",
       "24   Sedang   Cukup berkarat    Bagus  <1bulan   Kondisi baik\n",
       "25   Sedang   Cukup berkarat    Bagus  <1bulan   Kondisi baik\n",
       "26   Normal   Cukup berkarat    Bagus  >3bulan   Kondisi baik\n",
       "27   Normal            Bagus    Bagus  <1bulan   Kondisi baik\n",
       "28   Normal   Cukup berkarat    Bagus  >3bulan   Kondisi baik\n",
       "29   Normal            Bagus    Bagus  <1bulan   Kondisi baik\n",
       "30   Normal            Bagus    Bagus  <1bulan   Kondisi baik\n",
       "31   Normal            Bagus    Bagus  <1bulan   Kondisi baik\n",
       "32   Normal   Cukup berkarat    Bagus  >3bulan   Kondisi baik\n",
       "33   Sedang   Cukup berkarat    Bagus  <1bulan   Kondisi baik\n",
       "34   Normal   Cukup berkarat    Bagus  >3bulan   Kondisi baik\n",
       "35   Normal   Cukup berkarat    Bagus  >3bulan   Kondisi baik"
      ]
     },
     "execution_count": 16,
     "metadata": {},
     "output_type": "execute_result"
    }
   ],
   "source": [
    "list_nama_kolom = data_1.columns # out ==> ['Gas', 'Slongsong Gas', 'Tali Gas', 'Oli', 'Hasil']\n",
    "data_1_rev.columns = list_nama_kolom\n",
    "data_1_rev"
   ]
  },
  {
   "cell_type": "markdown",
   "metadata": {},
   "source": [
    "### Data Encoding (Transformation)"
   ]
  },
  {
   "cell_type": "code",
   "execution_count": 17,
   "metadata": {},
   "outputs": [],
   "source": [
    "from sklearn import preprocessing\n",
    "trans = preprocessing.LabelEncoder()\n",
    "columns = data_1_rev.columns\n",
    "data_encoded_storage = {}\n",
    "labels_storage = {} # ini untuk meta data\n",
    "for col in columns:\n",
    "    out = trans.fit_transform(data_1_rev[col])\n",
    "    out_lbl = trans.classes_\n",
    "    labels_storage.update({col:out_lbl})\n",
    "    data_encoded_storage.update({col:out})"
   ]
  },
  {
   "cell_type": "markdown",
   "metadata": {},
   "source": [
    "### Rekonstruksi kembali dataset data_1_rev-nya ke dalam dataframe"
   ]
  },
  {
   "cell_type": "code",
   "execution_count": 18,
   "metadata": {},
   "outputs": [
    {
     "data": {
      "text/html": [
       "<div>\n",
       "<style scoped>\n",
       "    .dataframe tbody tr th:only-of-type {\n",
       "        vertical-align: middle;\n",
       "    }\n",
       "\n",
       "    .dataframe tbody tr th {\n",
       "        vertical-align: top;\n",
       "    }\n",
       "\n",
       "    .dataframe thead th {\n",
       "        text-align: right;\n",
       "    }\n",
       "</style>\n",
       "<table border=\"1\" class=\"dataframe\">\n",
       "  <thead>\n",
       "    <tr style=\"text-align: right;\">\n",
       "      <th></th>\n",
       "      <th>Gas</th>\n",
       "      <th>Slongsong Gas</th>\n",
       "      <th>Tali Gas</th>\n",
       "      <th>Oli</th>\n",
       "      <th>Hasil</th>\n",
       "    </tr>\n",
       "  </thead>\n",
       "  <tbody>\n",
       "    <tr>\n",
       "      <th>0</th>\n",
       "      <td>1</td>\n",
       "      <td>0</td>\n",
       "      <td>0</td>\n",
       "      <td>0</td>\n",
       "      <td>0</td>\n",
       "    </tr>\n",
       "    <tr>\n",
       "      <th>1</th>\n",
       "      <td>1</td>\n",
       "      <td>0</td>\n",
       "      <td>0</td>\n",
       "      <td>1</td>\n",
       "      <td>1</td>\n",
       "    </tr>\n",
       "    <tr>\n",
       "      <th>2</th>\n",
       "      <td>1</td>\n",
       "      <td>0</td>\n",
       "      <td>1</td>\n",
       "      <td>1</td>\n",
       "      <td>1</td>\n",
       "    </tr>\n",
       "    <tr>\n",
       "      <th>3</th>\n",
       "      <td>2</td>\n",
       "      <td>2</td>\n",
       "      <td>1</td>\n",
       "      <td>1</td>\n",
       "      <td>1</td>\n",
       "    </tr>\n",
       "    <tr>\n",
       "      <th>4</th>\n",
       "      <td>0</td>\n",
       "      <td>2</td>\n",
       "      <td>1</td>\n",
       "      <td>1</td>\n",
       "      <td>1</td>\n",
       "    </tr>\n",
       "  </tbody>\n",
       "</table>\n",
       "</div>"
      ],
      "text/plain": [
       "   Gas  Slongsong Gas  Tali Gas  Oli  Hasil\n",
       "0    1              0         0    0      0\n",
       "1    1              0         0    1      1\n",
       "2    1              0         1    1      1\n",
       "3    2              2         1    1      1\n",
       "4    0              2         1    1      1"
      ]
     },
     "execution_count": 18,
     "metadata": {},
     "output_type": "execute_result"
    }
   ],
   "source": [
    "data_1_rev = pd.DataFrame(data_encoded_storage)\n",
    "data_1_rev.head() # lihat cuman 5 record data saja"
   ]
  },
  {
   "cell_type": "code",
   "execution_count": 47,
   "metadata": {},
   "outputs": [],
   "source": [
    "def train_test_split(data, persentase):\n",
    "    row = data.shape[0]\n",
    "    size = int(row * (persentase / 100))\n",
    "    out = row - size\n",
    "    x_train = data.iloc[:out, :-1]\n",
    "    x_test = data.iloc[out:, :-1]\n",
    "    y_train = data.iloc[:out, -1]\n",
    "    y_test = data.iloc[out:, -1]\n",
    "    return x_train, x_test, y_train, y_test"
   ]
  },
  {
   "cell_type": "markdown",
   "metadata": {},
   "source": [
    "### Splitting datanya menjadi training dan testing"
   ]
  },
  {
   "cell_type": "code",
   "execution_count": 80,
   "metadata": {},
   "outputs": [
    {
     "name": "stdout",
     "output_type": "stream",
     "text": [
      "x_train :  (29, 4)\n",
      "y_train :  (29,)\n",
      "x_test  :  (7, 4)\n",
      "y_test  :  (7,)\n"
     ]
    }
   ],
   "source": [
    "from sklearn import model_selection\n",
    "FEATURES = data_1_rev.iloc[:, :-1]\n",
    "TARGET = data_1_rev.iloc[:, -1]\n",
    "x_train, x_test, y_train, y_test = train_test_split(data=data_1_rev, persentase=20)\n",
    "# cek dimensi datanya \n",
    "print('x_train : ', x_train.shape)\n",
    "print('y_train : ', y_train.shape)\n",
    "print('x_test  : ',  x_test.shape)\n",
    "print('y_test  : ',  y_test.shape)"
   ]
  },
  {
   "cell_type": "code",
   "execution_count": 52,
   "metadata": {},
   "outputs": [
    {
     "name": "stdout",
     "output_type": "stream",
     "text": [
      "\n",
      " Support_vector_machine :\n",
      "              precision    recall  f1-score   support\n",
      "\n",
      "           0       1.00      0.57      0.73         7\n",
      "           1       0.00      0.00      0.00         0\n",
      "\n",
      "   micro avg       0.57      0.57      0.57         7\n",
      "   macro avg       0.50      0.29      0.36         7\n",
      "weighted avg       1.00      0.57      0.73         7\n",
      "\n",
      "accuracy : \n",
      " 57.143 %\n",
      "\n",
      "\n",
      " Decission_Tree :\n",
      "              precision    recall  f1-score   support\n",
      "\n",
      "           0       1.00      1.00      1.00         7\n",
      "\n",
      "   micro avg       1.00      1.00      1.00         7\n",
      "   macro avg       1.00      1.00      1.00         7\n",
      "weighted avg       1.00      1.00      1.00         7\n",
      "\n",
      "accuracy : \n",
      " 100.0 %\n",
      "\n",
      "\n",
      " multi_layer_perceptron :\n",
      "              precision    recall  f1-score   support\n",
      "\n",
      "           0       1.00      1.00      1.00         7\n",
      "\n",
      "   micro avg       1.00      1.00      1.00         7\n",
      "   macro avg       1.00      1.00      1.00         7\n",
      "weighted avg       1.00      1.00      1.00         7\n",
      "\n",
      "accuracy : \n",
      " 100.0 %\n",
      "\n"
     ]
    }
   ],
   "source": [
    "# import library algoritma pelatihannya\n",
    "from sklearn.svm import SVC\n",
    "from sklearn.tree import DecisionTreeClassifier\n",
    "from sklearn.neural_network import MLPClassifier\n",
    "\n",
    "# import library untuk mengukur akurasi dan laporan hasil klasifikasi\n",
    "from sklearn.metrics import accuracy_score, classification_report\n",
    "\n",
    "# inisialisasi model-nya\n",
    "models = {\n",
    "    \"Support_vector_machine\": SVC(kernel=\"linear\", gamma=\"auto\"),\n",
    "    \"Decission_Tree\": DecisionTreeClassifier(criterion='entropy'),\n",
    "    \"multi_layer_perceptron\": MLPClassifier(hidden_layer_sizes=(250),max_iter=1000,batch_size=100)\n",
    "}\n",
    "\n",
    "# membuat fungsi untuk melakukan fungsi fitting atau training\n",
    "def train_model (model,xtrain,ytrain):\n",
    "    model.fit(xtrain,ytrain)\n",
    "\n",
    "# membuat fungsi untuk menampilkan akurasi dan classifiation_report\n",
    "def predict(i,model,xtest,ytest):\n",
    "    pred = model.predict(xtest)\n",
    "    accuracy = accuracy_score(ytest, pred) * 100\n",
    "    print(\"\\n\",i,\":\")\n",
    "    print(classification_report(ytest, pred))\n",
    "    print(\"accuracy : \\n\", round(accuracy,3),\"%\\n\")\n",
    "\n",
    "# melakukan training dengan menggunakan semua algoritma yang telah diinisialisasi\n",
    "for i in models:\n",
    "    train_model(models[i],x_train,y_train)\n",
    "    predict(i,models[i],x_test,y_test)"
   ]
  },
  {
   "cell_type": "code",
   "execution_count": 21,
   "metadata": {},
   "outputs": [
    {
     "data": {
      "text/plain": [
       "array(['Kondisi baik', 'Kondisi rusak'], dtype=object)"
      ]
     },
     "execution_count": 21,
     "metadata": {},
     "output_type": "execute_result"
    }
   ],
   "source": [
    "labels_storage.get('Hasil')"
   ]
  },
  {
   "cell_type": "markdown",
   "metadata": {},
   "source": [
    "## Persiapan Production ke web service"
   ]
  },
  {
   "cell_type": "code",
   "execution_count": 53,
   "metadata": {},
   "outputs": [
    {
     "name": "stdout",
     "output_type": "stream",
     "text": [
      "path exist\n",
      "Done\n"
     ]
    }
   ],
   "source": [
    "# kita siimpan model yang sudah dihasilkan ke format pickle (.pkl)\n",
    "# import library pickle-nya\n",
    "import pickle\n",
    "import os \n",
    "\n",
    "# ambil models nya\n",
    "data_no = 1\n",
    "folder_name = 'model_{}'.format(data_no)\n",
    "\n",
    "if os.path.exists(folder_name):\n",
    "    print('path exist')\n",
    "else:\n",
    "    os.mkdir(folder_name)\n",
    "\n",
    "model_mlp = models['Decission_Tree']\n",
    "\n",
    "# simpan file model yang sudah dilatih ke dalam format pickle\n",
    "model_name = '{}/model_data_{}.pkl'.format(folder_name, data_no)\n",
    "pickle.dump(model_mlp, open(model_name, 'wb'))\n",
    "\n",
    "# simpan variabel class_keputusan ke dalam format pickle\n",
    "label_name = '{}/label_data_{}.pkl'.format(folder_name, data_no)\n",
    "pickle.dump(labels_storage, open(label_name, 'wb'))\n",
    "\n",
    "print('Done')"
   ]
  },
  {
   "cell_type": "code",
   "execution_count": 119,
   "metadata": {},
   "outputs": [
    {
     "name": "stdout",
     "output_type": "stream",
     "text": [
      "rusak\n",
      "Gas normal\n"
     ]
    }
   ],
   "source": [
    "idx = 1\n",
    "index = model_mlp.predict(x_test)[idx]\n",
    "out_kondisi = labels_storage.get('Hasil')[index]\n",
    "\n",
    "if out_kondisi != 'Kondisi rusak':\n",
    "    print('rusak')\n",
    "    if data_1['Gas'].values[idx] == 'Berat':\n",
    "        print('butuh pengecekan lebih lanjut')\n",
    "    elif data_1['Gas'].values[idx] == 'Normal':\n",
    "        if data_1['Slongsong Gas'].values[idx] == 'Sangat berkarat':\n",
    "            print('Slongsong Gas Harus diganti')\n",
    "        if data_1['Slongsong Gas'].values[idx] == 'Bagus':\n",
    "            if data_1['Tali Gas'].values[idx] == 'Putus':\n",
    "                print('Tali Gas Harus diganti')\n",
    "            elif data_1['Tali Gas'].values[idx] == 'Bagus':\n",
    "                if data_1['Oli'].values[idx] == '>3bulan':\n",
    "                    print('Oli harus diganti')\n",
    "                else:\n",
    "                    print('Gas normal')\n",
    "            \n",
    "# x_test_['Slongsong Gas'].values"
   ]
  },
  {
   "cell_type": "code",
   "execution_count": 95,
   "metadata": {},
   "outputs": [],
   "source": [
    "x_test_init['Gas'].values[6]"
   ]
  },
  {
   "cell_type": "markdown",
   "metadata": {},
   "source": [
    "4.  Gas\n",
    "#1 Jika gas tidak normal butuh pengecekan lebih lanjut. Jika normal, lanjut ke rules #2\n",
    "#2 Jika slongsong gas berkarat atau rusak, harus diganti. Jika bagus, lanjut ke rules #3\n",
    "#3 Jika tali gas putus, maka harus diganti. Jika bagus, lanjut ke rules #4\n",
    "#4 Jika oli sudah lama tidak diganti, maka harus diganti. Jika bagus, gas sudah dapat kembali normal."
   ]
  },
  {
   "cell_type": "code",
   "execution_count": 91,
   "metadata": {},
   "outputs": [
    {
     "name": "stdout",
     "output_type": "stream",
     "text": [
      "Gas  :\n",
      " ['Normal' 'Normal ' 'Berat' 'Sedang']\n",
      "Slongsong Gas  :\n",
      " ['Bagus' 'Sangat berkarat' 'Cukup berkarat']\n",
      "Tali Gas  :\n",
      " ['Bagus' 'Putus']\n",
      "Oli  :\n",
      " ['<1bulan' '>1bulan' '>3bulan']\n",
      "Hasil  :\n",
      " ['Kondisi baik' 'Kondisi rusak']\n"
     ]
    }
   ],
   "source": [
    "# lihat unique setiap kolom \n",
    "for col in data_1.columns:\n",
    "    out = data_1[col].unique()\n",
    "    print(col, ' :\\n', out)"
   ]
  },
  {
   "cell_type": "code",
   "execution_count": null,
   "metadata": {},
   "outputs": [],
   "source": []
  },
  {
   "cell_type": "code",
   "execution_count": null,
   "metadata": {},
   "outputs": [],
   "source": []
  },
  {
   "cell_type": "code",
   "execution_count": null,
   "metadata": {},
   "outputs": [],
   "source": []
  },
  {
   "cell_type": "code",
   "execution_count": null,
   "metadata": {},
   "outputs": [],
   "source": []
  },
  {
   "cell_type": "markdown",
   "metadata": {},
   "source": [
    "1.\tRem\n",
    "#1 Jika sil master bocor maka harus diganti. Jika sil master masih bagus,lanjut ke rules #2\n",
    "#2 Jika ring piston kotor maka harus dibersihkan. Jika ring piston bersih,lanjut ke rules#3\n",
    "#3 Jika kampas rem masih tipis, kampas rem harus diganti, jika sudah diganti rem sudah selesai diperbaiki.\n",
    "\n",
    "\n",
    "2.  Starter\n",
    "#1 Jika aki voltase < 12V dan arus < 3A, maka aki harus diganti. Jika \t\n",
    "Aki voltase = 12V dan arus =3A, maka lanjut ke rules #2\n",
    "#2 Jika umur aki > 1tahun, maka aki harus diganti. Jika umur aki <1tahun, lanjut ke rules #3 Jika switch starter tidak berbunyi, maka harus diganti. Jika switch starter berbunyi, lanjut ke rules #4\n",
    "#4 Jika arang starter = 0,2 , maka harus diganti. Jika arang starter >0,2, lanjut ke rules #5\n",
    "#5 Jika lahar dinamo starter meleleh, maka harus diganti. Jika lahar dinamo starter masih bagus, lanjut ke rules #6\n",
    "#6 Jika dinamo hangus, maka harus diganti. Jika dinamo masih bagus, starter sudah bisa berjalan dengan baik.\n",
    "\n",
    "     \n",
    "3.  Lampu\n",
    "#1 Jika bohlam putus,maka harus diganti. Jika bohlam masih bagus, lanjut ke rules #2\n",
    "#2 Jika timah soket meleleh,maka harus diganti. Jika timah soket bagus, lanjut ke #3\n",
    "#3 Jika kabel lampu putus, maka harus diganti. Jika kabel lampu bagus, lanjut ke rules #4\n",
    "#4 Jika saklar lampu rusak, maka harus diganti. Jika saklar bagus, lanjut ke rules #5\n",
    "#5 Jika sepul rusak, maka harus diganti. Jika sepul bagus, lanjut ke rules #6\n",
    "#6 Jika regulator rusak, maka harus diganti. Jika regulator bagus, lampu dapat menyala.\n",
    "\n",
    "\n"
   ]
  },
  {
   "cell_type": "code",
   "execution_count": null,
   "metadata": {},
   "outputs": [],
   "source": []
  }
 ],
 "metadata": {
  "kernelspec": {
   "display_name": "Python [conda env:gpu] *",
   "language": "python",
   "name": "conda-env-gpu-py"
  },
  "language_info": {
   "codemirror_mode": {
    "name": "ipython",
    "version": 3
   },
   "file_extension": ".py",
   "mimetype": "text/x-python",
   "name": "python",
   "nbconvert_exporter": "python",
   "pygments_lexer": "ipython3",
   "version": "3.6.5"
  }
 },
 "nbformat": 4,
 "nbformat_minor": 2
}
