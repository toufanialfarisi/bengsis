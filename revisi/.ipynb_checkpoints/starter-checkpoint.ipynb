{
 "cells": [
  {
   "cell_type": "code",
   "execution_count": 1,
   "metadata": {},
   "outputs": [],
   "source": [
    "import numpy as np \n",
    "import pandas as pd \n",
    "import sklearn\n",
    "import warnings"
   ]
  },
  {
   "cell_type": "code",
   "execution_count": 2,
   "metadata": {},
   "outputs": [],
   "source": [
    "def warn(*args, **kwargs):\n",
    "    pass \n",
    "warnings.warn = warn"
   ]
  },
  {
   "cell_type": "code",
   "execution_count": 3,
   "metadata": {},
   "outputs": [
    {
     "name": "stdout",
     "output_type": "stream",
     "text": [
      "(n_baris, n_kolom)\n",
      "data_2 :\n",
      " (50, 8)\n"
     ]
    }
   ],
   "source": [
    "# file csv yang akan diproses\n",
    "file_4 = 'starter.csv'\n",
    "\n",
    "# panggil filenya dan masukan ke dalam variabel data_n\n",
    "data_4 = pd.read_csv(file_4)\n",
    "\n",
    "# lihat dimensi semua filenya \n",
    "print('(n_baris, n_kolom)')\n",
    "print('data_2 :\\n', data_4.shape)"
   ]
  },
  {
   "cell_type": "markdown",
   "metadata": {},
   "source": [
    "### DATA_4 : starter"
   ]
  },
  {
   "cell_type": "code",
   "execution_count": 4,
   "metadata": {},
   "outputs": [
    {
     "name": "stdout",
     "output_type": "stream",
     "text": [
      "Voltase Accu  :\n",
      " [12 11 10  9  8]\n",
      "Arus Accu  :\n",
      " [3 2 1]\n",
      "Umur Accu(Bulan)  :\n",
      " [12  6 18 13  9  7  8  4  2  1  5  3 16 14 11 10 15 19 26 25 21]\n",
      "Switch Starter  :\n",
      " ['Bagus' 'Rusak']\n",
      "Arang Starter  :\n",
      " ['Tebal' 'Tipis' 'Sedang']\n",
      "Lahar Dinamo  :\n",
      " ['Bagus' 'Meleleh' 'Belum meleleh' 'Belum meleleh ']\n",
      "Dinamo  :\n",
      " ['Bagus' 'Rusak']\n",
      "Hasil  :\n",
      " ['Kondisi baik' 'Kondisi rusak']\n"
     ]
    }
   ],
   "source": [
    "# lihat unique setiap kolom \n",
    "for col in data_4.columns:\n",
    "    out = data_4[col].unique()\n",
    "    print(col, ' :\\n', out)"
   ]
  },
  {
   "cell_type": "code",
   "execution_count": 5,
   "metadata": {},
   "outputs": [
    {
     "data": {
      "text/plain": [
       "array(['Kondisi baik', 'Kondisi rusak'], dtype=object)"
      ]
     },
     "execution_count": 5,
     "metadata": {},
     "output_type": "execute_result"
    }
   ],
   "source": [
    "# kita lihat nilai - nilai unique dalam datanya\n",
    "data_4['Hasil'].unique()"
   ]
  },
  {
   "cell_type": "code",
   "execution_count": 6,
   "metadata": {},
   "outputs": [
    {
     "data": {
      "text/plain": [
       "Kondisi baik     27\n",
       "Kondisi rusak    23\n",
       "Name: Hasil, dtype: int64"
      ]
     },
     "execution_count": 6,
     "metadata": {},
     "output_type": "execute_result"
    }
   ],
   "source": [
    "# kita hitung berapa jumlah kelas di kolom 'Hasil' tersbeut \n",
    "data_4['Hasil'].value_counts()"
   ]
  },
  {
   "cell_type": "markdown",
   "metadata": {},
   "source": [
    "Terlihat bahwa jumlah class yang tersebar di dalam kolom Hasil itu bersifat tidak merata. artinya class 'Tidak ada yang diganti' memiliki jumlah paling banyak (mendominasi) dibandingkan dengan class yang lain seperti 'Oli diganti', 'tali gas diganti' dll. sehingga, agar menghasilkan model yang baik, maka jumlah class ini harus disama-ratakan (balancing) agar distribusi nilainya merata. sehingga akan semakin baik dalam menyimpulkan/memprediksi data"
   ]
  },
  {
   "cell_type": "markdown",
   "metadata": {},
   "source": [
    "### Random oversampling"
   ]
  },
  {
   "cell_type": "code",
   "execution_count": 11,
   "metadata": {},
   "outputs": [],
   "source": [
    "# ARSIP RANDOM OVERSAMPLING\n",
    "from imblearn.over_sampling import RandomOverSampler\n",
    "from collections import Counter\n",
    "\n",
    "def oversampling_or_not(oversampling=False):\n",
    "\n",
    "    # kita pecah datasetnya menjadi dua bagian yaitu variabel features dan variabel target\n",
    "    # X ==> berisi variabel-variabel features\n",
    "    \n",
    "    X = data_4.iloc[:, :-1]\n",
    "\n",
    "    # Y ==> berisi sebuah variabel target\n",
    "    y = data_4.iloc[:, -1]\n",
    "    if oversampling == False:\n",
    "        print(\"No Oversampling\")\n",
    "        return X, y\n",
    "\n",
    "    # mulai sampling\n",
    "    else:\n",
    "        print(\"Oversampling Mode\")\n",
    "        ros = RandomOverSampler(random_state=0)\n",
    "        X_resampled, y_resampled = ros.fit_sample(X, y)\n",
    "        print('dimension after oversampling')\n",
    "        print('X_resampled\\n', X_resampled.shape)\n",
    "        print('y_resampled\\n', y_resampled.shape)\n",
    "        # lihat hasil setelah oversampling\n",
    "        out = pd.DataFrame({'x_resampled':y})\n",
    "        print(out['x_resampled'].value_counts())\n",
    "        return X_resampled, y_resampled"
   ]
  },
  {
   "cell_type": "code",
   "execution_count": 13,
   "metadata": {},
   "outputs": [
    {
     "name": "stdout",
     "output_type": "stream",
     "text": [
      "No Oversampling\n"
     ]
    },
    {
     "data": {
      "text/html": [
       "<div>\n",
       "<style scoped>\n",
       "    .dataframe tbody tr th:only-of-type {\n",
       "        vertical-align: middle;\n",
       "    }\n",
       "\n",
       "    .dataframe tbody tr th {\n",
       "        vertical-align: top;\n",
       "    }\n",
       "\n",
       "    .dataframe thead th {\n",
       "        text-align: right;\n",
       "    }\n",
       "</style>\n",
       "<table border=\"1\" class=\"dataframe\">\n",
       "  <thead>\n",
       "    <tr style=\"text-align: right;\">\n",
       "      <th></th>\n",
       "      <th>Voltase Accu</th>\n",
       "      <th>Arus Accu</th>\n",
       "      <th>Umur Accu(Bulan)</th>\n",
       "      <th>Switch Starter</th>\n",
       "      <th>Arang Starter</th>\n",
       "      <th>Lahar Dinamo</th>\n",
       "      <th>Dinamo</th>\n",
       "      <th>hasil</th>\n",
       "    </tr>\n",
       "  </thead>\n",
       "  <tbody>\n",
       "    <tr>\n",
       "      <th>0</th>\n",
       "      <td>12</td>\n",
       "      <td>3</td>\n",
       "      <td>12</td>\n",
       "      <td>Bagus</td>\n",
       "      <td>Tebal</td>\n",
       "      <td>Bagus</td>\n",
       "      <td>Bagus</td>\n",
       "      <td>Kondisi baik</td>\n",
       "    </tr>\n",
       "    <tr>\n",
       "      <th>1</th>\n",
       "      <td>12</td>\n",
       "      <td>3</td>\n",
       "      <td>12</td>\n",
       "      <td>Bagus</td>\n",
       "      <td>Tebal</td>\n",
       "      <td>Bagus</td>\n",
       "      <td>Rusak</td>\n",
       "      <td>Kondisi rusak</td>\n",
       "    </tr>\n",
       "    <tr>\n",
       "      <th>2</th>\n",
       "      <td>12</td>\n",
       "      <td>3</td>\n",
       "      <td>6</td>\n",
       "      <td>Bagus</td>\n",
       "      <td>Tebal</td>\n",
       "      <td>Meleleh</td>\n",
       "      <td>Bagus</td>\n",
       "      <td>Kondisi rusak</td>\n",
       "    </tr>\n",
       "    <tr>\n",
       "      <th>3</th>\n",
       "      <td>12</td>\n",
       "      <td>2</td>\n",
       "      <td>6</td>\n",
       "      <td>Bagus</td>\n",
       "      <td>Tipis</td>\n",
       "      <td>Bagus</td>\n",
       "      <td>Rusak</td>\n",
       "      <td>Kondisi rusak</td>\n",
       "    </tr>\n",
       "    <tr>\n",
       "      <th>4</th>\n",
       "      <td>12</td>\n",
       "      <td>3</td>\n",
       "      <td>18</td>\n",
       "      <td>Rusak</td>\n",
       "      <td>Tebal</td>\n",
       "      <td>Bagus</td>\n",
       "      <td>Rusak</td>\n",
       "      <td>Kondisi rusak</td>\n",
       "    </tr>\n",
       "  </tbody>\n",
       "</table>\n",
       "</div>"
      ],
      "text/plain": [
       "   Voltase Accu  Arus Accu  Umur Accu(Bulan) Switch Starter Arang Starter  \\\n",
       "0            12          3                12          Bagus         Tebal   \n",
       "1            12          3                12          Bagus         Tebal   \n",
       "2            12          3                 6          Bagus         Tebal   \n",
       "3            12          2                 6          Bagus         Tipis   \n",
       "4            12          3                18          Rusak         Tebal   \n",
       "\n",
       "  Lahar Dinamo Dinamo          hasil  \n",
       "0        Bagus  Bagus   Kondisi baik  \n",
       "1        Bagus  Rusak  Kondisi rusak  \n",
       "2      Meleleh  Bagus  Kondisi rusak  \n",
       "3        Bagus  Rusak  Kondisi rusak  \n",
       "4        Bagus  Rusak  Kondisi rusak  "
      ]
     },
     "execution_count": 13,
     "metadata": {},
     "output_type": "execute_result"
    }
   ],
   "source": [
    "# REKONSTRUKSI ULANG DATA_1-Nya\n",
    "# TENTUKAN APAKAH MAU DIOVERSAMPLING ATAU TIDAK\n",
    "X, y = oversampling_or_not(oversampling=False)\n",
    "\n",
    "data_1_rev = pd.DataFrame(X)\n",
    "data_1_rev['hasil'] = y\n",
    "data_1_rev.head()"
   ]
  },
  {
   "cell_type": "markdown",
   "metadata": {},
   "source": [
    "#### perbaiki nama kolomnya "
   ]
  },
  {
   "cell_type": "code",
   "execution_count": 15,
   "metadata": {},
   "outputs": [
    {
     "data": {
      "text/html": [
       "<div>\n",
       "<style scoped>\n",
       "    .dataframe tbody tr th:only-of-type {\n",
       "        vertical-align: middle;\n",
       "    }\n",
       "\n",
       "    .dataframe tbody tr th {\n",
       "        vertical-align: top;\n",
       "    }\n",
       "\n",
       "    .dataframe thead th {\n",
       "        text-align: right;\n",
       "    }\n",
       "</style>\n",
       "<table border=\"1\" class=\"dataframe\">\n",
       "  <thead>\n",
       "    <tr style=\"text-align: right;\">\n",
       "      <th></th>\n",
       "      <th>Voltase Accu</th>\n",
       "      <th>Arus Accu</th>\n",
       "      <th>Umur Accu(Bulan)</th>\n",
       "      <th>Switch Starter</th>\n",
       "      <th>Arang Starter</th>\n",
       "      <th>Lahar Dinamo</th>\n",
       "      <th>Dinamo</th>\n",
       "      <th>Hasil</th>\n",
       "    </tr>\n",
       "  </thead>\n",
       "  <tbody>\n",
       "    <tr>\n",
       "      <th>0</th>\n",
       "      <td>12</td>\n",
       "      <td>3</td>\n",
       "      <td>12</td>\n",
       "      <td>Bagus</td>\n",
       "      <td>Tebal</td>\n",
       "      <td>Bagus</td>\n",
       "      <td>Bagus</td>\n",
       "      <td>Kondisi baik</td>\n",
       "    </tr>\n",
       "    <tr>\n",
       "      <th>1</th>\n",
       "      <td>12</td>\n",
       "      <td>3</td>\n",
       "      <td>12</td>\n",
       "      <td>Bagus</td>\n",
       "      <td>Tebal</td>\n",
       "      <td>Bagus</td>\n",
       "      <td>Rusak</td>\n",
       "      <td>Kondisi rusak</td>\n",
       "    </tr>\n",
       "    <tr>\n",
       "      <th>2</th>\n",
       "      <td>12</td>\n",
       "      <td>3</td>\n",
       "      <td>6</td>\n",
       "      <td>Bagus</td>\n",
       "      <td>Tebal</td>\n",
       "      <td>Meleleh</td>\n",
       "      <td>Bagus</td>\n",
       "      <td>Kondisi rusak</td>\n",
       "    </tr>\n",
       "    <tr>\n",
       "      <th>3</th>\n",
       "      <td>12</td>\n",
       "      <td>2</td>\n",
       "      <td>6</td>\n",
       "      <td>Bagus</td>\n",
       "      <td>Tipis</td>\n",
       "      <td>Bagus</td>\n",
       "      <td>Rusak</td>\n",
       "      <td>Kondisi rusak</td>\n",
       "    </tr>\n",
       "    <tr>\n",
       "      <th>4</th>\n",
       "      <td>12</td>\n",
       "      <td>3</td>\n",
       "      <td>18</td>\n",
       "      <td>Rusak</td>\n",
       "      <td>Tebal</td>\n",
       "      <td>Bagus</td>\n",
       "      <td>Rusak</td>\n",
       "      <td>Kondisi rusak</td>\n",
       "    </tr>\n",
       "  </tbody>\n",
       "</table>\n",
       "</div>"
      ],
      "text/plain": [
       "   Voltase Accu  Arus Accu  Umur Accu(Bulan) Switch Starter Arang Starter  \\\n",
       "0            12          3                12          Bagus         Tebal   \n",
       "1            12          3                12          Bagus         Tebal   \n",
       "2            12          3                 6          Bagus         Tebal   \n",
       "3            12          2                 6          Bagus         Tipis   \n",
       "4            12          3                18          Rusak         Tebal   \n",
       "\n",
       "  Lahar Dinamo Dinamo          Hasil  \n",
       "0        Bagus  Bagus   Kondisi baik  \n",
       "1        Bagus  Rusak  Kondisi rusak  \n",
       "2      Meleleh  Bagus  Kondisi rusak  \n",
       "3        Bagus  Rusak  Kondisi rusak  \n",
       "4        Bagus  Rusak  Kondisi rusak  "
      ]
     },
     "execution_count": 15,
     "metadata": {},
     "output_type": "execute_result"
    }
   ],
   "source": [
    "list_nama_kolom = data_4.columns # out ==> ['Gas', 'Slongsong Gas', 'Tali Gas', 'Oli', 'Hasil']\n",
    "data_1_rev.columns = list_nama_kolom\n",
    "data_1_rev.head()"
   ]
  },
  {
   "cell_type": "markdown",
   "metadata": {},
   "source": [
    "### Data Encoding (Transformation)"
   ]
  },
  {
   "cell_type": "code",
   "execution_count": 16,
   "metadata": {},
   "outputs": [],
   "source": [
    "from sklearn import preprocessing\n",
    "trans = preprocessing.LabelEncoder()\n",
    "columns = data_1_rev.columns\n",
    "data_encoded_storage = {}\n",
    "labels_storage = {} # ini untuk meta data\n",
    "for col in columns:\n",
    "    out = trans.fit_transform(data_1_rev[col])\n",
    "    out_lbl = trans.classes_\n",
    "    labels_storage.update({col:out_lbl})\n",
    "    data_encoded_storage.update({col:out})"
   ]
  },
  {
   "cell_type": "markdown",
   "metadata": {},
   "source": [
    "### Rekonstruksi kembali dataset data_1_rev-nya ke dalam dataframe"
   ]
  },
  {
   "cell_type": "code",
   "execution_count": 17,
   "metadata": {},
   "outputs": [
    {
     "data": {
      "text/html": [
       "<div>\n",
       "<style scoped>\n",
       "    .dataframe tbody tr th:only-of-type {\n",
       "        vertical-align: middle;\n",
       "    }\n",
       "\n",
       "    .dataframe tbody tr th {\n",
       "        vertical-align: top;\n",
       "    }\n",
       "\n",
       "    .dataframe thead th {\n",
       "        text-align: right;\n",
       "    }\n",
       "</style>\n",
       "<table border=\"1\" class=\"dataframe\">\n",
       "  <thead>\n",
       "    <tr style=\"text-align: right;\">\n",
       "      <th></th>\n",
       "      <th>Voltase Accu</th>\n",
       "      <th>Arus Accu</th>\n",
       "      <th>Umur Accu(Bulan)</th>\n",
       "      <th>Switch Starter</th>\n",
       "      <th>Arang Starter</th>\n",
       "      <th>Lahar Dinamo</th>\n",
       "      <th>Dinamo</th>\n",
       "      <th>Hasil</th>\n",
       "    </tr>\n",
       "  </thead>\n",
       "  <tbody>\n",
       "    <tr>\n",
       "      <th>0</th>\n",
       "      <td>4</td>\n",
       "      <td>2</td>\n",
       "      <td>11</td>\n",
       "      <td>0</td>\n",
       "      <td>1</td>\n",
       "      <td>0</td>\n",
       "      <td>0</td>\n",
       "      <td>0</td>\n",
       "    </tr>\n",
       "    <tr>\n",
       "      <th>1</th>\n",
       "      <td>4</td>\n",
       "      <td>2</td>\n",
       "      <td>11</td>\n",
       "      <td>0</td>\n",
       "      <td>1</td>\n",
       "      <td>0</td>\n",
       "      <td>1</td>\n",
       "      <td>1</td>\n",
       "    </tr>\n",
       "    <tr>\n",
       "      <th>2</th>\n",
       "      <td>4</td>\n",
       "      <td>2</td>\n",
       "      <td>5</td>\n",
       "      <td>0</td>\n",
       "      <td>1</td>\n",
       "      <td>3</td>\n",
       "      <td>0</td>\n",
       "      <td>1</td>\n",
       "    </tr>\n",
       "    <tr>\n",
       "      <th>3</th>\n",
       "      <td>4</td>\n",
       "      <td>1</td>\n",
       "      <td>5</td>\n",
       "      <td>0</td>\n",
       "      <td>2</td>\n",
       "      <td>0</td>\n",
       "      <td>1</td>\n",
       "      <td>1</td>\n",
       "    </tr>\n",
       "    <tr>\n",
       "      <th>4</th>\n",
       "      <td>4</td>\n",
       "      <td>2</td>\n",
       "      <td>16</td>\n",
       "      <td>1</td>\n",
       "      <td>1</td>\n",
       "      <td>0</td>\n",
       "      <td>1</td>\n",
       "      <td>1</td>\n",
       "    </tr>\n",
       "  </tbody>\n",
       "</table>\n",
       "</div>"
      ],
      "text/plain": [
       "   Voltase Accu  Arus Accu  Umur Accu(Bulan)  Switch Starter  Arang Starter  \\\n",
       "0             4          2                11               0              1   \n",
       "1             4          2                11               0              1   \n",
       "2             4          2                 5               0              1   \n",
       "3             4          1                 5               0              2   \n",
       "4             4          2                16               1              1   \n",
       "\n",
       "   Lahar Dinamo  Dinamo  Hasil  \n",
       "0             0       0      0  \n",
       "1             0       1      1  \n",
       "2             3       0      1  \n",
       "3             0       1      1  \n",
       "4             0       1      1  "
      ]
     },
     "execution_count": 17,
     "metadata": {},
     "output_type": "execute_result"
    }
   ],
   "source": [
    "data_1_rev = pd.DataFrame(data_encoded_storage)\n",
    "data_1_rev.head() # lihat cuman 5 record data saja"
   ]
  },
  {
   "cell_type": "markdown",
   "metadata": {},
   "source": [
    "### Splitting datanya menjadi training dan testing"
   ]
  },
  {
   "cell_type": "code",
   "execution_count": 18,
   "metadata": {},
   "outputs": [],
   "source": [
    "# buat fungsi untuk dataset splitting\n",
    "def train_test_split(data, persentase):\n",
    "    row = data.shape[0]\n",
    "    size = int(row * (persentase / 100))\n",
    "    out = row - size\n",
    "    x_train = data.iloc[:out, :-1]\n",
    "    x_test = data.iloc[out:, :-1]\n",
    "    y_train = data.iloc[:out, -1]\n",
    "    y_test = data.iloc[out:, -1]\n",
    "    return x_train, x_test, y_train, y_test"
   ]
  },
  {
   "cell_type": "code",
   "execution_count": 19,
   "metadata": {},
   "outputs": [
    {
     "name": "stdout",
     "output_type": "stream",
     "text": [
      "x_train :  (40, 7)\n",
      "y_train :  (40,)\n",
      "x_test  :  (10, 7)\n",
      "y_test  :  (10,)\n"
     ]
    }
   ],
   "source": [
    "from sklearn import model_selection\n",
    "FEATURES = data_1_rev.iloc[:, :-1]\n",
    "TARGET = data_1_rev.iloc[:, -1]\n",
    "\n",
    "'''\n",
    "dalam hal ini, kita akan membagi dataset menjadi dua yaitu \n",
    "training sebanyak 80% dan testing sebanyak 20%\n",
    "'''\n",
    "x_train, x_test, y_train, y_test = train_test_split(data=data_1_rev, persentase=20)\n",
    "# cek dimensi datanya \n",
    "print('x_train : ', x_train.shape)\n",
    "print('y_train : ', y_train.shape)\n",
    "print('x_test  : ',  x_test.shape)\n",
    "print('y_test  : ',  y_test.shape)"
   ]
  },
  {
   "cell_type": "code",
   "execution_count": 20,
   "metadata": {},
   "outputs": [
    {
     "name": "stdout",
     "output_type": "stream",
     "text": [
      "\n",
      " Support_vector_machine :\n",
      "              precision    recall  f1-score   support\n",
      "\n",
      "           0       0.86      1.00      0.92         6\n",
      "           1       1.00      0.75      0.86         4\n",
      "\n",
      "   micro avg       0.90      0.90      0.90        10\n",
      "   macro avg       0.93      0.88      0.89        10\n",
      "weighted avg       0.91      0.90      0.90        10\n",
      "\n",
      "accuracy : \n",
      " 90.0 %\n",
      "\n",
      "\n",
      " Decission_Tree :\n",
      "              precision    recall  f1-score   support\n",
      "\n",
      "           0       1.00      1.00      1.00         6\n",
      "           1       1.00      1.00      1.00         4\n",
      "\n",
      "   micro avg       1.00      1.00      1.00        10\n",
      "   macro avg       1.00      1.00      1.00        10\n",
      "weighted avg       1.00      1.00      1.00        10\n",
      "\n",
      "accuracy : \n",
      " 100.0 %\n",
      "\n",
      "\n",
      " multi_layer_perceptron :\n",
      "              precision    recall  f1-score   support\n",
      "\n",
      "           0       1.00      1.00      1.00         6\n",
      "           1       1.00      1.00      1.00         4\n",
      "\n",
      "   micro avg       1.00      1.00      1.00        10\n",
      "   macro avg       1.00      1.00      1.00        10\n",
      "weighted avg       1.00      1.00      1.00        10\n",
      "\n",
      "accuracy : \n",
      " 100.0 %\n",
      "\n"
     ]
    }
   ],
   "source": [
    "# import library algoritma pelatihannya\n",
    "from sklearn.svm import SVC\n",
    "from sklearn.tree import DecisionTreeClassifier\n",
    "from sklearn.neural_network import MLPClassifier\n",
    "\n",
    "# import library untuk mengukur akurasi dan laporan hasil klasifikasi\n",
    "from sklearn.metrics import accuracy_score, classification_report\n",
    "\n",
    "# inisialisasi model-nya\n",
    "models = {\n",
    "    \"Support_vector_machine\": SVC(kernel=\"linear\", gamma=\"auto\"),\n",
    "    \"Decission_Tree\": DecisionTreeClassifier(criterion='entropy'),\n",
    "    \"multi_layer_perceptron\": MLPClassifier(hidden_layer_sizes=(250),max_iter=1000,batch_size=100)\n",
    "}\n",
    "\n",
    "# membuat fungsi untuk melakukan fungsi fitting atau training\n",
    "def train_model (model,xtrain,ytrain):\n",
    "    model.fit(xtrain,ytrain)\n",
    "\n",
    "# membuat fungsi untuk menampilkan akurasi dan classifiation_report\n",
    "def predict(i,model,xtest,ytest):\n",
    "    pred = model.predict(xtest)\n",
    "    accuracy = accuracy_score(ytest, pred) * 100\n",
    "    print(\"\\n\",i,\":\")\n",
    "    print(classification_report(ytest, pred))\n",
    "    print(\"accuracy : \\n\", round(accuracy,3),\"%\\n\")\n",
    "\n",
    "# melakukan training dengan menggunakan semua algoritma yang telah diinisialisasi\n",
    "for i in models:\n",
    "    train_model(models[i],x_train,y_train)\n",
    "    predict(i,models[i],x_test,y_test)"
   ]
  },
  {
   "cell_type": "code",
   "execution_count": 21,
   "metadata": {},
   "outputs": [
    {
     "name": "stdout",
     "output_type": "stream",
     "text": [
      "path exist\n",
      "Done\n"
     ]
    }
   ],
   "source": [
    "# kita siimpan model yang sudah dihasilkan ke format pickle (.pkl)\n",
    "# import library pickle-nya\n",
    "import pickle\n",
    "import os \n",
    "\n",
    "# ambil models nya\n",
    "data_no = 4\n",
    "folder_name = 'model_{}'.format(data_no)\n",
    "\n",
    "if os.path.exists(folder_name):\n",
    "    print('path exist')\n",
    "else:\n",
    "    os.mkdir(folder_name)\n",
    "\n",
    "model_mlp = models['multi_layer_perceptron']\n",
    "\n",
    "# simpan file model yang sudah dilatih ke dalam format pickle\n",
    "model_name = '{}/model_data_{}.pkl'.format(folder_name, data_no)\n",
    "pickle.dump(model_mlp, open(model_name, 'wb'))\n",
    "\n",
    "# simpan variabel class_keputusan ke dalam format pickle\n",
    "label_name = '{}/label_data_{}.pkl'.format(folder_name, data_no)\n",
    "pickle.dump(labels_storage, open(label_name, 'wb'))\n",
    "\n",
    "print('Done')"
   ]
  },
  {
   "cell_type": "code",
   "execution_count": null,
   "metadata": {},
   "outputs": [],
   "source": []
  }
 ],
 "metadata": {
  "kernelspec": {
   "display_name": "Python [conda env:gpu] *",
   "language": "python",
   "name": "conda-env-gpu-py"
  },
  "language_info": {
   "codemirror_mode": {
    "name": "ipython",
    "version": 3
   },
   "file_extension": ".py",
   "mimetype": "text/x-python",
   "name": "python",
   "nbconvert_exporter": "python",
   "pygments_lexer": "ipython3",
   "version": "3.6.5"
  }
 },
 "nbformat": 4,
 "nbformat_minor": 2
}
